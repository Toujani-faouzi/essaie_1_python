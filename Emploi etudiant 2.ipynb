{
 "cells": [
  {
   "cell_type": "code",
   "execution_count": 31,
   "id": "74b16cc0-3537-4e9c-ba67-0bc67b81bbde",
   "metadata": {},
   "outputs": [],
   "source": [
    "import pandas as pd"
   ]
  },
  {
   "cell_type": "code",
   "execution_count": 32,
   "id": "b1190778-0ca6-40e9-98f7-6348e8fc3ecf",
   "metadata": {},
   "outputs": [
    {
     "name": "stdout",
     "output_type": "stream",
     "text": [
      "['Lundi', 'Mardi', 'Mercredi', 'Jeudi', 'Vendredi', 'Samedi', 'Dimanche']\n"
     ]
    }
   ],
   "source": [
    "liste_Day = [\"Lundi\", \"Mardi\", \"Mercredi\", \"Jeudi\", \"Vendredi\", \"Samedi\", \"Dimanche\"]\n",
    "print(liste_Day)"
   ]
  },
  {
   "cell_type": "code",
   "execution_count": 33,
   "id": "77f4567b-42b0-4586-9f90-55a1e4dd7514",
   "metadata": {},
   "outputs": [
    {
     "name": "stdout",
     "output_type": "stream",
     "text": [
      "['SQL', 'Python', 'R', 'Algebre lineaire', 'Statestique', 'Propabilite']\n"
     ]
    }
   ],
   "source": [
    "liste_matiere = [\"SQL\", \"Python\", \"R\", \"Algebre lineaire\", \"Statestique\", \"Propabilite\"]\n",
    "print(liste_matiere)"
   ]
  },
  {
   "cell_type": "code",
   "execution_count": 34,
   "id": "8cbe107d-df3a-4f3a-a743-fcb392c0a37c",
   "metadata": {},
   "outputs": [
    {
     "name": "stdout",
     "output_type": "stream",
     "text": [
      "['Mario', 'Luigi', 'Kango', 'Bowser']\n"
     ]
    }
   ],
   "source": [
    "liste_etudiant = [\"Mario\", \"Luigi\", \"Kango\", \"Bowser\"]\n",
    "print(liste_etudiant)"
   ]
  },
  {
   "cell_type": "code",
   "execution_count": 35,
   "id": "60363662-8577-4ec5-ae30-8b8884bafc11",
   "metadata": {},
   "outputs": [
    {
     "name": "stdout",
     "output_type": "stream",
     "text": [
      "[(8, 9), (9, 10), (10, 11), (11, 12), (12, 13), (13, 14), (14, 15), (15, 16), (16, 17), (17, 18)]\n"
     ]
    }
   ],
   "source": [
    "liste_horaire = []\n",
    "for i in range(8, 18, 1) :\n",
    "    liste_horaire.append((i, i+1))\n",
    "print(liste_horaire)"
   ]
  },
  {
   "cell_type": "code",
   "execution_count": 36,
   "id": "888e80f8-fa9d-4010-a96b-317f6650e504",
   "metadata": {},
   "outputs": [],
   "source": [
    "affectation_cours = []"
   ]
  },
  {
   "cell_type": "code",
   "execution_count": 37,
   "id": "681a6b23-5737-46a2-9bd9-2c04d3c3a83a",
   "metadata": {},
   "outputs": [],
   "source": [
    "semaine_day = {}\n",
    "horaire_day = {}\n",
    "dict_etudiant = {}"
   ]
  },
  {
   "cell_type": "code",
   "execution_count": 38,
   "id": "3dd3c01e-9731-4c8c-88e6-1027cb137f51",
   "metadata": {},
   "outputs": [],
   "source": [
    "for i, j in enumerate(liste_horaire) :\n",
    "    horaire_day[i+1] = j\n",
    "for i, j in enumerate(liste_Day) :\n",
    "    semaine_day[i+1] = (j, horaire_day)"
   ]
  },
  {
   "cell_type": "code",
   "execution_count": 39,
   "id": "6131e1f6-09f3-461c-9f1d-dc4d8587aeea",
   "metadata": {},
   "outputs": [
    {
     "name": "stdout",
     "output_type": "stream",
     "text": [
      "{1: (8, 9), 2: (9, 10), 3: (10, 11), 4: (11, 12), 5: (12, 13), 6: (13, 14), 7: (14, 15), 8: (15, 16), 9: (16, 17), 10: (17, 18)}\n"
     ]
    }
   ],
   "source": [
    "print(horaire_day)"
   ]
  },
  {
   "cell_type": "code",
   "execution_count": 40,
   "id": "2ef47058-37f7-4f54-8df7-4c20477d8370",
   "metadata": {},
   "outputs": [
    {
     "name": "stdout",
     "output_type": "stream",
     "text": [
      "{1: ('Lundi', {1: (8, 9), 2: (9, 10), 3: (10, 11), 4: (11, 12), 5: (12, 13), 6: (13, 14), 7: (14, 15), 8: (15, 16), 9: (16, 17), 10: (17, 18)}), 2: ('Mardi', {1: (8, 9), 2: (9, 10), 3: (10, 11), 4: (11, 12), 5: (12, 13), 6: (13, 14), 7: (14, 15), 8: (15, 16), 9: (16, 17), 10: (17, 18)}), 3: ('Mercredi', {1: (8, 9), 2: (9, 10), 3: (10, 11), 4: (11, 12), 5: (12, 13), 6: (13, 14), 7: (14, 15), 8: (15, 16), 9: (16, 17), 10: (17, 18)}), 4: ('Jeudi', {1: (8, 9), 2: (9, 10), 3: (10, 11), 4: (11, 12), 5: (12, 13), 6: (13, 14), 7: (14, 15), 8: (15, 16), 9: (16, 17), 10: (17, 18)}), 5: ('Vendredi', {1: (8, 9), 2: (9, 10), 3: (10, 11), 4: (11, 12), 5: (12, 13), 6: (13, 14), 7: (14, 15), 8: (15, 16), 9: (16, 17), 10: (17, 18)}), 6: ('Samedi', {1: (8, 9), 2: (9, 10), 3: (10, 11), 4: (11, 12), 5: (12, 13), 6: (13, 14), 7: (14, 15), 8: (15, 16), 9: (16, 17), 10: (17, 18)}), 7: ('Dimanche', {1: (8, 9), 2: (9, 10), 3: (10, 11), 4: (11, 12), 5: (12, 13), 6: (13, 14), 7: (14, 15), 8: (15, 16), 9: (16, 17), 10: (17, 18)})}\n"
     ]
    }
   ],
   "source": [
    "print(semaine_day)"
   ]
  },
  {
   "cell_type": "code",
   "execution_count": 41,
   "id": "3c8cf79a-6439-43df-8faa-36f629b67f51",
   "metadata": {},
   "outputs": [],
   "source": [
    "for i in liste_etudiant :\n",
    "    dict_etudiant[i] = semaine_day"
   ]
  },
  {
   "cell_type": "code",
   "execution_count": 42,
   "id": "14f4bac1-f48f-491e-820a-cbb899b11374",
   "metadata": {},
   "outputs": [
    {
     "name": "stdout",
     "output_type": "stream",
     "text": [
      "{'Mario': {1: ('Lundi', {1: (8, 9), 2: (9, 10), 3: (10, 11), 4: (11, 12), 5: (12, 13), 6: (13, 14), 7: (14, 15), 8: (15, 16), 9: (16, 17), 10: (17, 18)}), 2: ('Mardi', {1: (8, 9), 2: (9, 10), 3: (10, 11), 4: (11, 12), 5: (12, 13), 6: (13, 14), 7: (14, 15), 8: (15, 16), 9: (16, 17), 10: (17, 18)}), 3: ('Mercredi', {1: (8, 9), 2: (9, 10), 3: (10, 11), 4: (11, 12), 5: (12, 13), 6: (13, 14), 7: (14, 15), 8: (15, 16), 9: (16, 17), 10: (17, 18)}), 4: ('Jeudi', {1: (8, 9), 2: (9, 10), 3: (10, 11), 4: (11, 12), 5: (12, 13), 6: (13, 14), 7: (14, 15), 8: (15, 16), 9: (16, 17), 10: (17, 18)}), 5: ('Vendredi', {1: (8, 9), 2: (9, 10), 3: (10, 11), 4: (11, 12), 5: (12, 13), 6: (13, 14), 7: (14, 15), 8: (15, 16), 9: (16, 17), 10: (17, 18)}), 6: ('Samedi', {1: (8, 9), 2: (9, 10), 3: (10, 11), 4: (11, 12), 5: (12, 13), 6: (13, 14), 7: (14, 15), 8: (15, 16), 9: (16, 17), 10: (17, 18)}), 7: ('Dimanche', {1: (8, 9), 2: (9, 10), 3: (10, 11), 4: (11, 12), 5: (12, 13), 6: (13, 14), 7: (14, 15), 8: (15, 16), 9: (16, 17), 10: (17, 18)})}, 'Luigi': {1: ('Lundi', {1: (8, 9), 2: (9, 10), 3: (10, 11), 4: (11, 12), 5: (12, 13), 6: (13, 14), 7: (14, 15), 8: (15, 16), 9: (16, 17), 10: (17, 18)}), 2: ('Mardi', {1: (8, 9), 2: (9, 10), 3: (10, 11), 4: (11, 12), 5: (12, 13), 6: (13, 14), 7: (14, 15), 8: (15, 16), 9: (16, 17), 10: (17, 18)}), 3: ('Mercredi', {1: (8, 9), 2: (9, 10), 3: (10, 11), 4: (11, 12), 5: (12, 13), 6: (13, 14), 7: (14, 15), 8: (15, 16), 9: (16, 17), 10: (17, 18)}), 4: ('Jeudi', {1: (8, 9), 2: (9, 10), 3: (10, 11), 4: (11, 12), 5: (12, 13), 6: (13, 14), 7: (14, 15), 8: (15, 16), 9: (16, 17), 10: (17, 18)}), 5: ('Vendredi', {1: (8, 9), 2: (9, 10), 3: (10, 11), 4: (11, 12), 5: (12, 13), 6: (13, 14), 7: (14, 15), 8: (15, 16), 9: (16, 17), 10: (17, 18)}), 6: ('Samedi', {1: (8, 9), 2: (9, 10), 3: (10, 11), 4: (11, 12), 5: (12, 13), 6: (13, 14), 7: (14, 15), 8: (15, 16), 9: (16, 17), 10: (17, 18)}), 7: ('Dimanche', {1: (8, 9), 2: (9, 10), 3: (10, 11), 4: (11, 12), 5: (12, 13), 6: (13, 14), 7: (14, 15), 8: (15, 16), 9: (16, 17), 10: (17, 18)})}, 'Kango': {1: ('Lundi', {1: (8, 9), 2: (9, 10), 3: (10, 11), 4: (11, 12), 5: (12, 13), 6: (13, 14), 7: (14, 15), 8: (15, 16), 9: (16, 17), 10: (17, 18)}), 2: ('Mardi', {1: (8, 9), 2: (9, 10), 3: (10, 11), 4: (11, 12), 5: (12, 13), 6: (13, 14), 7: (14, 15), 8: (15, 16), 9: (16, 17), 10: (17, 18)}), 3: ('Mercredi', {1: (8, 9), 2: (9, 10), 3: (10, 11), 4: (11, 12), 5: (12, 13), 6: (13, 14), 7: (14, 15), 8: (15, 16), 9: (16, 17), 10: (17, 18)}), 4: ('Jeudi', {1: (8, 9), 2: (9, 10), 3: (10, 11), 4: (11, 12), 5: (12, 13), 6: (13, 14), 7: (14, 15), 8: (15, 16), 9: (16, 17), 10: (17, 18)}), 5: ('Vendredi', {1: (8, 9), 2: (9, 10), 3: (10, 11), 4: (11, 12), 5: (12, 13), 6: (13, 14), 7: (14, 15), 8: (15, 16), 9: (16, 17), 10: (17, 18)}), 6: ('Samedi', {1: (8, 9), 2: (9, 10), 3: (10, 11), 4: (11, 12), 5: (12, 13), 6: (13, 14), 7: (14, 15), 8: (15, 16), 9: (16, 17), 10: (17, 18)}), 7: ('Dimanche', {1: (8, 9), 2: (9, 10), 3: (10, 11), 4: (11, 12), 5: (12, 13), 6: (13, 14), 7: (14, 15), 8: (15, 16), 9: (16, 17), 10: (17, 18)})}, 'Bowser': {1: ('Lundi', {1: (8, 9), 2: (9, 10), 3: (10, 11), 4: (11, 12), 5: (12, 13), 6: (13, 14), 7: (14, 15), 8: (15, 16), 9: (16, 17), 10: (17, 18)}), 2: ('Mardi', {1: (8, 9), 2: (9, 10), 3: (10, 11), 4: (11, 12), 5: (12, 13), 6: (13, 14), 7: (14, 15), 8: (15, 16), 9: (16, 17), 10: (17, 18)}), 3: ('Mercredi', {1: (8, 9), 2: (9, 10), 3: (10, 11), 4: (11, 12), 5: (12, 13), 6: (13, 14), 7: (14, 15), 8: (15, 16), 9: (16, 17), 10: (17, 18)}), 4: ('Jeudi', {1: (8, 9), 2: (9, 10), 3: (10, 11), 4: (11, 12), 5: (12, 13), 6: (13, 14), 7: (14, 15), 8: (15, 16), 9: (16, 17), 10: (17, 18)}), 5: ('Vendredi', {1: (8, 9), 2: (9, 10), 3: (10, 11), 4: (11, 12), 5: (12, 13), 6: (13, 14), 7: (14, 15), 8: (15, 16), 9: (16, 17), 10: (17, 18)}), 6: ('Samedi', {1: (8, 9), 2: (9, 10), 3: (10, 11), 4: (11, 12), 5: (12, 13), 6: (13, 14), 7: (14, 15), 8: (15, 16), 9: (16, 17), 10: (17, 18)}), 7: ('Dimanche', {1: (8, 9), 2: (9, 10), 3: (10, 11), 4: (11, 12), 5: (12, 13), 6: (13, 14), 7: (14, 15), 8: (15, 16), 9: (16, 17), 10: (17, 18)})}}\n"
     ]
    }
   ],
   "source": [
    "print(dict_etudiant)"
   ]
  },
  {
   "cell_type": "code",
   "execution_count": 43,
   "id": "abedbc8f-0159-4aeb-a960-8f4be7304def",
   "metadata": {},
   "outputs": [
    {
     "name": "stdout",
     "output_type": "stream",
     "text": [
      "Mario\n",
      "1\n",
      "Lundi\n",
      "{1: (8, 9), 2: (9, 10), 3: (10, 11), 4: (11, 12), 5: (12, 13), 6: (13, 14), 7: (14, 15), 8: (15, 16), 9: (16, 17), 10: (17, 18)}\n",
      "2\n",
      "Mardi\n",
      "{1: (8, 9), 2: (9, 10), 3: (10, 11), 4: (11, 12), 5: (12, 13), 6: (13, 14), 7: (14, 15), 8: (15, 16), 9: (16, 17), 10: (17, 18)}\n",
      "3\n",
      "Mercredi\n",
      "{1: (8, 9), 2: (9, 10), 3: (10, 11), 4: (11, 12), 5: (12, 13), 6: (13, 14), 7: (14, 15), 8: (15, 16), 9: (16, 17), 10: (17, 18)}\n",
      "4\n",
      "Jeudi\n",
      "{1: (8, 9), 2: (9, 10), 3: (10, 11), 4: (11, 12), 5: (12, 13), 6: (13, 14), 7: (14, 15), 8: (15, 16), 9: (16, 17), 10: (17, 18)}\n",
      "5\n",
      "Vendredi\n",
      "{1: (8, 9), 2: (9, 10), 3: (10, 11), 4: (11, 12), 5: (12, 13), 6: (13, 14), 7: (14, 15), 8: (15, 16), 9: (16, 17), 10: (17, 18)}\n",
      "6\n",
      "Samedi\n",
      "{1: (8, 9), 2: (9, 10), 3: (10, 11), 4: (11, 12), 5: (12, 13), 6: (13, 14), 7: (14, 15), 8: (15, 16), 9: (16, 17), 10: (17, 18)}\n",
      "7\n",
      "Dimanche\n",
      "{1: (8, 9), 2: (9, 10), 3: (10, 11), 4: (11, 12), 5: (12, 13), 6: (13, 14), 7: (14, 15), 8: (15, 16), 9: (16, 17), 10: (17, 18)}\n",
      "Luigi\n",
      "1\n",
      "Lundi\n",
      "{1: (8, 9), 2: (9, 10), 3: (10, 11), 4: (11, 12), 5: (12, 13), 6: (13, 14), 7: (14, 15), 8: (15, 16), 9: (16, 17), 10: (17, 18)}\n",
      "2\n",
      "Mardi\n",
      "{1: (8, 9), 2: (9, 10), 3: (10, 11), 4: (11, 12), 5: (12, 13), 6: (13, 14), 7: (14, 15), 8: (15, 16), 9: (16, 17), 10: (17, 18)}\n",
      "3\n",
      "Mercredi\n",
      "{1: (8, 9), 2: (9, 10), 3: (10, 11), 4: (11, 12), 5: (12, 13), 6: (13, 14), 7: (14, 15), 8: (15, 16), 9: (16, 17), 10: (17, 18)}\n",
      "4\n",
      "Jeudi\n",
      "{1: (8, 9), 2: (9, 10), 3: (10, 11), 4: (11, 12), 5: (12, 13), 6: (13, 14), 7: (14, 15), 8: (15, 16), 9: (16, 17), 10: (17, 18)}\n",
      "5\n",
      "Vendredi\n",
      "{1: (8, 9), 2: (9, 10), 3: (10, 11), 4: (11, 12), 5: (12, 13), 6: (13, 14), 7: (14, 15), 8: (15, 16), 9: (16, 17), 10: (17, 18)}\n",
      "6\n",
      "Samedi\n",
      "{1: (8, 9), 2: (9, 10), 3: (10, 11), 4: (11, 12), 5: (12, 13), 6: (13, 14), 7: (14, 15), 8: (15, 16), 9: (16, 17), 10: (17, 18)}\n",
      "7\n",
      "Dimanche\n",
      "{1: (8, 9), 2: (9, 10), 3: (10, 11), 4: (11, 12), 5: (12, 13), 6: (13, 14), 7: (14, 15), 8: (15, 16), 9: (16, 17), 10: (17, 18)}\n",
      "Kango\n",
      "1\n",
      "Lundi\n",
      "{1: (8, 9), 2: (9, 10), 3: (10, 11), 4: (11, 12), 5: (12, 13), 6: (13, 14), 7: (14, 15), 8: (15, 16), 9: (16, 17), 10: (17, 18)}\n",
      "2\n",
      "Mardi\n",
      "{1: (8, 9), 2: (9, 10), 3: (10, 11), 4: (11, 12), 5: (12, 13), 6: (13, 14), 7: (14, 15), 8: (15, 16), 9: (16, 17), 10: (17, 18)}\n",
      "3\n",
      "Mercredi\n",
      "{1: (8, 9), 2: (9, 10), 3: (10, 11), 4: (11, 12), 5: (12, 13), 6: (13, 14), 7: (14, 15), 8: (15, 16), 9: (16, 17), 10: (17, 18)}\n",
      "4\n",
      "Jeudi\n",
      "{1: (8, 9), 2: (9, 10), 3: (10, 11), 4: (11, 12), 5: (12, 13), 6: (13, 14), 7: (14, 15), 8: (15, 16), 9: (16, 17), 10: (17, 18)}\n",
      "5\n",
      "Vendredi\n",
      "{1: (8, 9), 2: (9, 10), 3: (10, 11), 4: (11, 12), 5: (12, 13), 6: (13, 14), 7: (14, 15), 8: (15, 16), 9: (16, 17), 10: (17, 18)}\n",
      "6\n",
      "Samedi\n",
      "{1: (8, 9), 2: (9, 10), 3: (10, 11), 4: (11, 12), 5: (12, 13), 6: (13, 14), 7: (14, 15), 8: (15, 16), 9: (16, 17), 10: (17, 18)}\n",
      "7\n",
      "Dimanche\n",
      "{1: (8, 9), 2: (9, 10), 3: (10, 11), 4: (11, 12), 5: (12, 13), 6: (13, 14), 7: (14, 15), 8: (15, 16), 9: (16, 17), 10: (17, 18)}\n",
      "Bowser\n",
      "1\n",
      "Lundi\n",
      "{1: (8, 9), 2: (9, 10), 3: (10, 11), 4: (11, 12), 5: (12, 13), 6: (13, 14), 7: (14, 15), 8: (15, 16), 9: (16, 17), 10: (17, 18)}\n",
      "2\n",
      "Mardi\n",
      "{1: (8, 9), 2: (9, 10), 3: (10, 11), 4: (11, 12), 5: (12, 13), 6: (13, 14), 7: (14, 15), 8: (15, 16), 9: (16, 17), 10: (17, 18)}\n",
      "3\n",
      "Mercredi\n",
      "{1: (8, 9), 2: (9, 10), 3: (10, 11), 4: (11, 12), 5: (12, 13), 6: (13, 14), 7: (14, 15), 8: (15, 16), 9: (16, 17), 10: (17, 18)}\n",
      "4\n",
      "Jeudi\n",
      "{1: (8, 9), 2: (9, 10), 3: (10, 11), 4: (11, 12), 5: (12, 13), 6: (13, 14), 7: (14, 15), 8: (15, 16), 9: (16, 17), 10: (17, 18)}\n",
      "5\n",
      "Vendredi\n",
      "{1: (8, 9), 2: (9, 10), 3: (10, 11), 4: (11, 12), 5: (12, 13), 6: (13, 14), 7: (14, 15), 8: (15, 16), 9: (16, 17), 10: (17, 18)}\n",
      "6\n",
      "Samedi\n",
      "{1: (8, 9), 2: (9, 10), 3: (10, 11), 4: (11, 12), 5: (12, 13), 6: (13, 14), 7: (14, 15), 8: (15, 16), 9: (16, 17), 10: (17, 18)}\n",
      "7\n",
      "Dimanche\n",
      "{1: (8, 9), 2: (9, 10), 3: (10, 11), 4: (11, 12), 5: (12, 13), 6: (13, 14), 7: (14, 15), 8: (15, 16), 9: (16, 17), 10: (17, 18)}\n"
     ]
    }
   ],
   "source": [
    "for i, j in dict_etudiant.items() :\n",
    "    print(i)\n",
    "    for k, l in j.items():\n",
    "        print(k)\n",
    "        for m in l :\n",
    "            print(m)  \n",
    "   "
   ]
  },
  {
   "cell_type": "code",
   "execution_count": 44,
   "id": "9901fafc-e6a7-4a7f-bf7c-9aaf6c79ce04",
   "metadata": {},
   "outputs": [
    {
     "name": "stdout",
     "output_type": "stream",
     "text": [
      "[]\n"
     ]
    }
   ],
   "source": [
    "print(affectation_cours)"
   ]
  },
  {
   "cell_type": "code",
   "execution_count": 45,
   "id": "5fd917b4-3d39-4bdf-8fe3-fb9312b6dd97",
   "metadata": {},
   "outputs": [],
   "source": [
    "def ajout_cours(etudiant, day1, h1, cours1):\n",
    "    \n",
    "    if [etudiant, day1, h1, cours1] in affectation_cours :\n",
    "        print(\"Erreur : cet cour est deja affecter a cet etudiant a a cet jour\")\n",
    "    else :\n",
    "        affectation_cours.append([etudiant, day1, h1, cours1])\n",
    "        print(\"Cours affecter avec succeé : \", [etudiant, day1, h1, cours1])"
   ]
  },
  {
   "cell_type": "code",
   "execution_count": 46,
   "id": "d2a95540-9eea-42c7-aed1-d34195fb902d",
   "metadata": {},
   "outputs": [
    {
     "name": "stdout",
     "output_type": "stream",
     "text": [
      "Cours affecter avec succeé :  ['Mario', 'Lundi', (8, 9), 'SQL']\n"
     ]
    }
   ],
   "source": [
    "ajout_cours(\"Mario\", \"Lundi\", (8, 9), \"SQL\")"
   ]
  },
  {
   "cell_type": "code",
   "execution_count": 47,
   "id": "8cf4256a-b543-4c8d-b67e-aa2de9dbebc0",
   "metadata": {},
   "outputs": [],
   "source": [
    "def suprimer_cours(etudiant, day1, h1, cours1):\n",
    "    if [etudiant, day1, h1, cours1] not in affectation_cours :\n",
    "        print(\"Erreur : cet cour n'est jamais affecter a cet etudiant a a cet jour\")\n",
    "    else :\n",
    "        affectation_cours.remove([etudiant, day1, h1, cours1])\n",
    "        print(\"Cours suprimer avec succeé : \", [etudiant, day1, h1, cours1])"
   ]
  },
  {
   "cell_type": "code",
   "execution_count": 48,
   "id": "7dd33306-f059-4af9-bfa5-6295fe543a76",
   "metadata": {},
   "outputs": [
    {
     "name": "stdout",
     "output_type": "stream",
     "text": [
      "Cours suprimer avec succeé :  ['Mario', 'Lundi', (8, 9), 'SQL']\n"
     ]
    }
   ],
   "source": [
    "suprimer_cours(\"Mario\", \"Lundi\", (8, 9), \"SQL\")"
   ]
  },
  {
   "cell_type": "code",
   "execution_count": 56,
   "id": "4ff26fef-baa7-45b5-b2e9-20afba720b6b",
   "metadata": {},
   "outputs": [],
   "source": [
    "def affichage_tableau() :\n",
    "    for i, j in dict_etudiant.items() :\n",
    "        #print(i)\n",
    "        for k,l in j.items():\n",
    "            #print(\"   \",l[0])\n",
    "            for n, o in l[1].items() :\n",
    "                #print(\"        \",o)\n",
    "                for p in affectation_cours :\n",
    "                    if p[0] == i and p[1] == l[0] and p[2] == o :\n",
    "                        #print(\"        \",p[3])\n",
    "                        dict_aff = {'Etudiant' : [i], 'Day': [l[0]], 'Heure' : [o], 'Cours' : [p[3]]}\n",
    "                        df = pd.DataFrame(dict_aff, index = ['-'])\n",
    "                        display(df)"
   ]
  },
  {
   "cell_type": "code",
   "execution_count": 57,
   "id": "4410af70-8ad2-4e75-a0dd-d444c5ac60dc",
   "metadata": {},
   "outputs": [
    {
     "data": {
      "text/html": [
       "<div>\n",
       "<style scoped>\n",
       "    .dataframe tbody tr th:only-of-type {\n",
       "        vertical-align: middle;\n",
       "    }\n",
       "\n",
       "    .dataframe tbody tr th {\n",
       "        vertical-align: top;\n",
       "    }\n",
       "\n",
       "    .dataframe thead th {\n",
       "        text-align: right;\n",
       "    }\n",
       "</style>\n",
       "<table border=\"1\" class=\"dataframe\">\n",
       "  <thead>\n",
       "    <tr style=\"text-align: right;\">\n",
       "      <th></th>\n",
       "      <th>Etudiant</th>\n",
       "      <th>Day</th>\n",
       "      <th>Heure</th>\n",
       "      <th>Cours</th>\n",
       "    </tr>\n",
       "  </thead>\n",
       "  <tbody>\n",
       "    <tr>\n",
       "      <th>-</th>\n",
       "      <td>Mario</td>\n",
       "      <td>Lundi</td>\n",
       "      <td>(8, 9)</td>\n",
       "      <td>SQL</td>\n",
       "    </tr>\n",
       "  </tbody>\n",
       "</table>\n",
       "</div>"
      ],
      "text/plain": [
       "  Etudiant    Day   Heure Cours\n",
       "-    Mario  Lundi  (8, 9)   SQL"
      ]
     },
     "metadata": {},
     "output_type": "display_data"
    }
   ],
   "source": [
    "affichage_tableau()"
   ]
  },
  {
   "cell_type": "code",
   "execution_count": 58,
   "id": "30b4ad4e-ddbe-46d4-8dec-7173e43669dd",
   "metadata": {},
   "outputs": [
    {
     "name": "stdout",
     "output_type": "stream",
     "text": [
      "Bien venue a mon programe de tableau de matiere etudiants\n"
     ]
    },
    {
     "name": "stdin",
     "output_type": "stream",
     "text": [
      " Si vous voulez afficher table de matiere etudiants taper : 'C' \n",
      " Si voulez vous ajouter un cours a un etudiant taper : 'A' \n",
      " Si voulez vous suprimer un cours pour un etudiant taper : 'S' \n",
      " a\n"
     ]
    },
    {
     "name": "stdout",
     "output_type": "stream",
     "text": [
      "chois correcte : a\n"
     ]
    },
    {
     "name": "stdin",
     "output_type": "stream",
     "text": [
      "Shoisire soigneussement le nom etudiant de liste d'etudiant suivant : \n",
      " ['Mario', 'Luigi', 'Kango', 'Bowser'] : \n",
      " Mario\n"
     ]
    },
    {
     "name": "stdout",
     "output_type": "stream",
     "text": [
      "Nom etudiant choisis est : Mario\n"
     ]
    },
    {
     "name": "stdin",
     "output_type": "stream",
     "text": [
      "Shoisir soigneusement un jour pour etudier de liste suivante : \n",
      " ['Lundi', 'Mardi', 'Mercredi', 'Jeudi', 'Vendredi', 'Samedi', 'Dimanche'] : \n",
      " Lundi\n"
     ]
    },
    {
     "name": "stdout",
     "output_type": "stream",
     "text": [
      "Jour d'etude choisis est : Lundi\n"
     ]
    },
    {
     "name": "stdin",
     "output_type": "stream",
     "text": [
      "choisire soingeusement une heure de cours de liste suivante : \n",
      " [(8, 9), (9, 10), (10, 11), (11, 12), (12, 13), (13, 14), (14, 15), (15, 16), (16, 17), (17, 18)] : \n",
      " (9, 10)\n"
     ]
    },
    {
     "name": "stdout",
     "output_type": "stream",
     "text": [
      "heur de cours choisis est : (9, 10)\n"
     ]
    },
    {
     "name": "stdin",
     "output_type": "stream",
     "text": [
      "Shoisir soigneusement une matiere de cours suivants : \n",
      " ['SQL', 'Python', 'R', 'Algebre lineaire', 'Statestique', 'Propabilite'] : \n",
      " Python\n"
     ]
    },
    {
     "name": "stdout",
     "output_type": "stream",
     "text": [
      "Matiere de cours choisis est : Python\n",
      "Cours affecter avec succeé :  ['Mario', 'Lundi', (9, 10), 'Python']\n"
     ]
    },
    {
     "name": "stdin",
     "output_type": "stream",
     "text": [
      "Si voulez vous continuer taper : 'Y' \n",
      " Si voulez vous Quiter taper : 'N' : \n",
      " y\n"
     ]
    },
    {
     "name": "stdout",
     "output_type": "stream",
     "text": [
      "Bien venue a mon programe de tableau de matiere etudiants\n"
     ]
    },
    {
     "name": "stdin",
     "output_type": "stream",
     "text": [
      " Si vous voulez afficher table de matiere etudiants taper : 'C' \n",
      " Si voulez vous ajouter un cours a un etudiant taper : 'A' \n",
      " Si voulez vous suprimer un cours pour un etudiant taper : 'S' \n",
      " a\n"
     ]
    },
    {
     "name": "stdout",
     "output_type": "stream",
     "text": [
      "chois correcte : a\n"
     ]
    },
    {
     "name": "stdin",
     "output_type": "stream",
     "text": [
      "Shoisire soigneussement le nom etudiant de liste d'etudiant suivant : \n",
      " ['Mario', 'Luigi', 'Kango', 'Bowser'] : \n",
      " Luigi\n"
     ]
    },
    {
     "name": "stdout",
     "output_type": "stream",
     "text": [
      "Nom etudiant choisis est : Luigi\n"
     ]
    },
    {
     "name": "stdin",
     "output_type": "stream",
     "text": [
      "Shoisir soigneusement un jour pour etudier de liste suivante : \n",
      " ['Lundi', 'Mardi', 'Mercredi', 'Jeudi', 'Vendredi', 'Samedi', 'Dimanche'] : \n",
      " Jeudi\n"
     ]
    },
    {
     "name": "stdout",
     "output_type": "stream",
     "text": [
      "Jour d'etude choisis est : Jeudi\n"
     ]
    },
    {
     "name": "stdin",
     "output_type": "stream",
     "text": [
      "choisire soingeusement une heure de cours de liste suivante : \n",
      " [(8, 9), (9, 10), (10, 11), (11, 12), (12, 13), (13, 14), (14, 15), (15, 16), (16, 17), (17, 18)] : \n",
      " (10, 11)\n"
     ]
    },
    {
     "name": "stdout",
     "output_type": "stream",
     "text": [
      "heur de cours choisis est : (10, 11)\n"
     ]
    },
    {
     "name": "stdin",
     "output_type": "stream",
     "text": [
      "Shoisir soigneusement une matiere de cours suivants : \n",
      " ['SQL', 'Python', 'R', 'Algebre lineaire', 'Statestique', 'Propabilite'] : \n",
      " Algebre lineaire\n"
     ]
    },
    {
     "name": "stdout",
     "output_type": "stream",
     "text": [
      "Matiere de cours choisis est : Algebre lineaire\n",
      "Cours affecter avec succeé :  ['Luigi', 'Jeudi', (10, 11), 'Algebre lineaire']\n"
     ]
    },
    {
     "name": "stdin",
     "output_type": "stream",
     "text": [
      "Si voulez vous continuer taper : 'Y' \n",
      " Si voulez vous Quiter taper : 'N' : \n",
      " y\n"
     ]
    },
    {
     "name": "stdout",
     "output_type": "stream",
     "text": [
      "Bien venue a mon programe de tableau de matiere etudiants\n"
     ]
    },
    {
     "name": "stdin",
     "output_type": "stream",
     "text": [
      " Si vous voulez afficher table de matiere etudiants taper : 'C' \n",
      " Si voulez vous ajouter un cours a un etudiant taper : 'A' \n",
      " Si voulez vous suprimer un cours pour un etudiant taper : 'S' \n",
      " a\n"
     ]
    },
    {
     "name": "stdout",
     "output_type": "stream",
     "text": [
      "chois correcte : a\n"
     ]
    },
    {
     "name": "stdin",
     "output_type": "stream",
     "text": [
      "Shoisire soigneussement le nom etudiant de liste d'etudiant suivant : \n",
      " ['Mario', 'Luigi', 'Kango', 'Bowser'] : \n",
      " Luigi\n"
     ]
    },
    {
     "name": "stdout",
     "output_type": "stream",
     "text": [
      "Nom etudiant choisis est : Luigi\n"
     ]
    },
    {
     "name": "stdin",
     "output_type": "stream",
     "text": [
      "Shoisir soigneusement un jour pour etudier de liste suivante : \n",
      " ['Lundi', 'Mardi', 'Mercredi', 'Jeudi', 'Vendredi', 'Samedi', 'Dimanche'] : \n",
      " Jeudi\n"
     ]
    },
    {
     "name": "stdout",
     "output_type": "stream",
     "text": [
      "Jour d'etude choisis est : Jeudi\n"
     ]
    },
    {
     "name": "stdin",
     "output_type": "stream",
     "text": [
      "choisire soingeusement une heure de cours de liste suivante : \n",
      " [(8, 9), (9, 10), (10, 11), (11, 12), (12, 13), (13, 14), (14, 15), (15, 16), (16, 17), (17, 18)] : \n",
      " (11, 12)\n"
     ]
    },
    {
     "name": "stdout",
     "output_type": "stream",
     "text": [
      "heur de cours choisis est : (11, 12)\n"
     ]
    },
    {
     "name": "stdin",
     "output_type": "stream",
     "text": [
      "Shoisir soigneusement une matiere de cours suivants : \n",
      " ['SQL', 'Python', 'R', 'Algebre lineaire', 'Statestique', 'Propabilite'] : \n",
      " Algebre lineaire\n"
     ]
    },
    {
     "name": "stdout",
     "output_type": "stream",
     "text": [
      "Matiere de cours choisis est : Algebre lineaire\n",
      "Cours affecter avec succeé :  ['Luigi', 'Jeudi', (11, 12), 'Algebre lineaire']\n"
     ]
    },
    {
     "name": "stdin",
     "output_type": "stream",
     "text": [
      "Si voulez vous continuer taper : 'Y' \n",
      " Si voulez vous Quiter taper : 'N' : \n",
      " y\n"
     ]
    },
    {
     "name": "stdout",
     "output_type": "stream",
     "text": [
      "Bien venue a mon programe de tableau de matiere etudiants\n"
     ]
    },
    {
     "name": "stdin",
     "output_type": "stream",
     "text": [
      " Si vous voulez afficher table de matiere etudiants taper : 'C' \n",
      " Si voulez vous ajouter un cours a un etudiant taper : 'A' \n",
      " Si voulez vous suprimer un cours pour un etudiant taper : 'S' \n",
      " a\n"
     ]
    },
    {
     "name": "stdout",
     "output_type": "stream",
     "text": [
      "chois correcte : a\n"
     ]
    },
    {
     "name": "stdin",
     "output_type": "stream",
     "text": [
      "Shoisire soigneussement le nom etudiant de liste d'etudiant suivant : \n",
      " ['Mario', 'Luigi', 'Kango', 'Bowser'] : \n",
      " Bowser\n"
     ]
    },
    {
     "name": "stdout",
     "output_type": "stream",
     "text": [
      "Nom etudiant choisis est : Bowser\n"
     ]
    },
    {
     "name": "stdin",
     "output_type": "stream",
     "text": [
      "Shoisir soigneusement un jour pour etudier de liste suivante : \n",
      " ['Lundi', 'Mardi', 'Mercredi', 'Jeudi', 'Vendredi', 'Samedi', 'Dimanche'] : \n",
      " Mardi\n"
     ]
    },
    {
     "name": "stdout",
     "output_type": "stream",
     "text": [
      "Jour d'etude choisis est : Mardi\n"
     ]
    },
    {
     "name": "stdin",
     "output_type": "stream",
     "text": [
      "choisire soingeusement une heure de cours de liste suivante : \n",
      " [(8, 9), (9, 10), (10, 11), (11, 12), (12, 13), (13, 14), (14, 15), (15, 16), (16, 17), (17, 18)] : \n",
      " (12, 13)\n"
     ]
    },
    {
     "name": "stdout",
     "output_type": "stream",
     "text": [
      "heur de cours choisis est : (12, 13)\n"
     ]
    },
    {
     "name": "stdin",
     "output_type": "stream",
     "text": [
      "Shoisir soigneusement une matiere de cours suivants : \n",
      " ['SQL', 'Python', 'R', 'Algebre lineaire', 'Statestique', 'Propabilite'] : \n",
      " R\n"
     ]
    },
    {
     "name": "stdout",
     "output_type": "stream",
     "text": [
      "Matiere de cours choisis est : R\n",
      "Cours affecter avec succeé :  ['Bowser', 'Mardi', (12, 13), 'R']\n"
     ]
    },
    {
     "name": "stdin",
     "output_type": "stream",
     "text": [
      "Si voulez vous continuer taper : 'Y' \n",
      " Si voulez vous Quiter taper : 'N' : \n",
      " y\n"
     ]
    },
    {
     "name": "stdout",
     "output_type": "stream",
     "text": [
      "Bien venue a mon programe de tableau de matiere etudiants\n"
     ]
    },
    {
     "name": "stdin",
     "output_type": "stream",
     "text": [
      " Si vous voulez afficher table de matiere etudiants taper : 'C' \n",
      " Si voulez vous ajouter un cours a un etudiant taper : 'A' \n",
      " Si voulez vous suprimer un cours pour un etudiant taper : 'S' \n",
      " c\n"
     ]
    },
    {
     "name": "stdout",
     "output_type": "stream",
     "text": [
      "chois correcte : c\n"
     ]
    },
    {
     "data": {
      "text/html": [
       "<div>\n",
       "<style scoped>\n",
       "    .dataframe tbody tr th:only-of-type {\n",
       "        vertical-align: middle;\n",
       "    }\n",
       "\n",
       "    .dataframe tbody tr th {\n",
       "        vertical-align: top;\n",
       "    }\n",
       "\n",
       "    .dataframe thead th {\n",
       "        text-align: right;\n",
       "    }\n",
       "</style>\n",
       "<table border=\"1\" class=\"dataframe\">\n",
       "  <thead>\n",
       "    <tr style=\"text-align: right;\">\n",
       "      <th></th>\n",
       "      <th>Etudiant</th>\n",
       "      <th>Day</th>\n",
       "      <th>Heure</th>\n",
       "      <th>Cours</th>\n",
       "    </tr>\n",
       "  </thead>\n",
       "  <tbody>\n",
       "    <tr>\n",
       "      <th>-</th>\n",
       "      <td>Mario</td>\n",
       "      <td>Lundi</td>\n",
       "      <td>(8, 9)</td>\n",
       "      <td>SQL</td>\n",
       "    </tr>\n",
       "  </tbody>\n",
       "</table>\n",
       "</div>"
      ],
      "text/plain": [
       "  Etudiant    Day   Heure Cours\n",
       "-    Mario  Lundi  (8, 9)   SQL"
      ]
     },
     "metadata": {},
     "output_type": "display_data"
    },
    {
     "data": {
      "text/html": [
       "<div>\n",
       "<style scoped>\n",
       "    .dataframe tbody tr th:only-of-type {\n",
       "        vertical-align: middle;\n",
       "    }\n",
       "\n",
       "    .dataframe tbody tr th {\n",
       "        vertical-align: top;\n",
       "    }\n",
       "\n",
       "    .dataframe thead th {\n",
       "        text-align: right;\n",
       "    }\n",
       "</style>\n",
       "<table border=\"1\" class=\"dataframe\">\n",
       "  <thead>\n",
       "    <tr style=\"text-align: right;\">\n",
       "      <th></th>\n",
       "      <th>Etudiant</th>\n",
       "      <th>Day</th>\n",
       "      <th>Heure</th>\n",
       "      <th>Cours</th>\n",
       "    </tr>\n",
       "  </thead>\n",
       "  <tbody>\n",
       "    <tr>\n",
       "      <th>-</th>\n",
       "      <td>Mario</td>\n",
       "      <td>Lundi</td>\n",
       "      <td>(9, 10)</td>\n",
       "      <td>Python</td>\n",
       "    </tr>\n",
       "  </tbody>\n",
       "</table>\n",
       "</div>"
      ],
      "text/plain": [
       "  Etudiant    Day    Heure   Cours\n",
       "-    Mario  Lundi  (9, 10)  Python"
      ]
     },
     "metadata": {},
     "output_type": "display_data"
    },
    {
     "data": {
      "text/html": [
       "<div>\n",
       "<style scoped>\n",
       "    .dataframe tbody tr th:only-of-type {\n",
       "        vertical-align: middle;\n",
       "    }\n",
       "\n",
       "    .dataframe tbody tr th {\n",
       "        vertical-align: top;\n",
       "    }\n",
       "\n",
       "    .dataframe thead th {\n",
       "        text-align: right;\n",
       "    }\n",
       "</style>\n",
       "<table border=\"1\" class=\"dataframe\">\n",
       "  <thead>\n",
       "    <tr style=\"text-align: right;\">\n",
       "      <th></th>\n",
       "      <th>Etudiant</th>\n",
       "      <th>Day</th>\n",
       "      <th>Heure</th>\n",
       "      <th>Cours</th>\n",
       "    </tr>\n",
       "  </thead>\n",
       "  <tbody>\n",
       "    <tr>\n",
       "      <th>-</th>\n",
       "      <td>Luigi</td>\n",
       "      <td>Jeudi</td>\n",
       "      <td>(10, 11)</td>\n",
       "      <td>Algebre lineaire</td>\n",
       "    </tr>\n",
       "  </tbody>\n",
       "</table>\n",
       "</div>"
      ],
      "text/plain": [
       "  Etudiant    Day     Heure             Cours\n",
       "-    Luigi  Jeudi  (10, 11)  Algebre lineaire"
      ]
     },
     "metadata": {},
     "output_type": "display_data"
    },
    {
     "data": {
      "text/html": [
       "<div>\n",
       "<style scoped>\n",
       "    .dataframe tbody tr th:only-of-type {\n",
       "        vertical-align: middle;\n",
       "    }\n",
       "\n",
       "    .dataframe tbody tr th {\n",
       "        vertical-align: top;\n",
       "    }\n",
       "\n",
       "    .dataframe thead th {\n",
       "        text-align: right;\n",
       "    }\n",
       "</style>\n",
       "<table border=\"1\" class=\"dataframe\">\n",
       "  <thead>\n",
       "    <tr style=\"text-align: right;\">\n",
       "      <th></th>\n",
       "      <th>Etudiant</th>\n",
       "      <th>Day</th>\n",
       "      <th>Heure</th>\n",
       "      <th>Cours</th>\n",
       "    </tr>\n",
       "  </thead>\n",
       "  <tbody>\n",
       "    <tr>\n",
       "      <th>-</th>\n",
       "      <td>Luigi</td>\n",
       "      <td>Jeudi</td>\n",
       "      <td>(11, 12)</td>\n",
       "      <td>Algebre lineaire</td>\n",
       "    </tr>\n",
       "  </tbody>\n",
       "</table>\n",
       "</div>"
      ],
      "text/plain": [
       "  Etudiant    Day     Heure             Cours\n",
       "-    Luigi  Jeudi  (11, 12)  Algebre lineaire"
      ]
     },
     "metadata": {},
     "output_type": "display_data"
    },
    {
     "data": {
      "text/html": [
       "<div>\n",
       "<style scoped>\n",
       "    .dataframe tbody tr th:only-of-type {\n",
       "        vertical-align: middle;\n",
       "    }\n",
       "\n",
       "    .dataframe tbody tr th {\n",
       "        vertical-align: top;\n",
       "    }\n",
       "\n",
       "    .dataframe thead th {\n",
       "        text-align: right;\n",
       "    }\n",
       "</style>\n",
       "<table border=\"1\" class=\"dataframe\">\n",
       "  <thead>\n",
       "    <tr style=\"text-align: right;\">\n",
       "      <th></th>\n",
       "      <th>Etudiant</th>\n",
       "      <th>Day</th>\n",
       "      <th>Heure</th>\n",
       "      <th>Cours</th>\n",
       "    </tr>\n",
       "  </thead>\n",
       "  <tbody>\n",
       "    <tr>\n",
       "      <th>-</th>\n",
       "      <td>Bowser</td>\n",
       "      <td>Mardi</td>\n",
       "      <td>(12, 13)</td>\n",
       "      <td>R</td>\n",
       "    </tr>\n",
       "  </tbody>\n",
       "</table>\n",
       "</div>"
      ],
      "text/plain": [
       "  Etudiant    Day     Heure Cours\n",
       "-   Bowser  Mardi  (12, 13)     R"
      ]
     },
     "metadata": {},
     "output_type": "display_data"
    },
    {
     "name": "stdin",
     "output_type": "stream",
     "text": [
      "Si voulez vous continuer taper : 'Y' \n",
      " Si voulez vous Quiter taper : 'N' : \n",
      " y\n"
     ]
    },
    {
     "name": "stdout",
     "output_type": "stream",
     "text": [
      "Bien venue a mon programe de tableau de matiere etudiants\n"
     ]
    },
    {
     "name": "stdin",
     "output_type": "stream",
     "text": [
      " Si vous voulez afficher table de matiere etudiants taper : 'C' \n",
      " Si voulez vous ajouter un cours a un etudiant taper : 'A' \n",
      " Si voulez vous suprimer un cours pour un etudiant taper : 'S' \n",
      " s\n"
     ]
    },
    {
     "name": "stdout",
     "output_type": "stream",
     "text": [
      "chois correcte : s\n"
     ]
    },
    {
     "name": "stdin",
     "output_type": "stream",
     "text": [
      "Shoisire soigneussement le nom etudiant de liste d'etudiant suivant : \n",
      " ['Mario', 'Luigi', 'Kango', 'Bowser'] : \n",
      " Luigi\n"
     ]
    },
    {
     "name": "stdout",
     "output_type": "stream",
     "text": [
      "Nom etudiant choisis est : Luigi\n"
     ]
    },
    {
     "name": "stdin",
     "output_type": "stream",
     "text": [
      "Shoisir soigneusement un jour pour etudier de liste suivante : \n",
      " ['Lundi', 'Mardi', 'Mercredi', 'Jeudi', 'Vendredi', 'Samedi', 'Dimanche'] : \n",
      " Jeudi\n"
     ]
    },
    {
     "name": "stdout",
     "output_type": "stream",
     "text": [
      "Jour d'etude choisis est : Jeudi\n"
     ]
    },
    {
     "name": "stdin",
     "output_type": "stream",
     "text": [
      "choisire soingeusement une heure de cours de liste suivante : \n",
      " [(8, 9), (9, 10), (10, 11), (11, 12), (12, 13), (13, 14), (14, 15), (15, 16), (16, 17), (17, 18)] : \n",
      " (11, 12)\n"
     ]
    },
    {
     "name": "stdout",
     "output_type": "stream",
     "text": [
      "heur de cours choisis est : (11, 12)\n"
     ]
    },
    {
     "name": "stdin",
     "output_type": "stream",
     "text": [
      "Shoisir soigneusement une matiere de cours suivants : \n",
      " ['SQL', 'Python', 'R', 'Algebre lineaire', 'Statestique', 'Propabilite'] : \n",
      " Algebre lineaire\n"
     ]
    },
    {
     "name": "stdout",
     "output_type": "stream",
     "text": [
      "Matiere de cours choisis est : Algebre lineaire\n",
      "Cours suprimer avec succeé :  ['Luigi', 'Jeudi', (11, 12), 'Algebre lineaire']\n"
     ]
    },
    {
     "name": "stdin",
     "output_type": "stream",
     "text": [
      "Si voulez vous continuer taper : 'Y' \n",
      " Si voulez vous Quiter taper : 'N' : \n",
      " y\n"
     ]
    },
    {
     "name": "stdout",
     "output_type": "stream",
     "text": [
      "Bien venue a mon programe de tableau de matiere etudiants\n"
     ]
    },
    {
     "name": "stdin",
     "output_type": "stream",
     "text": [
      " Si vous voulez afficher table de matiere etudiants taper : 'C' \n",
      " Si voulez vous ajouter un cours a un etudiant taper : 'A' \n",
      " Si voulez vous suprimer un cours pour un etudiant taper : 'S' \n",
      " c\n"
     ]
    },
    {
     "name": "stdout",
     "output_type": "stream",
     "text": [
      "chois correcte : c\n"
     ]
    },
    {
     "data": {
      "text/html": [
       "<div>\n",
       "<style scoped>\n",
       "    .dataframe tbody tr th:only-of-type {\n",
       "        vertical-align: middle;\n",
       "    }\n",
       "\n",
       "    .dataframe tbody tr th {\n",
       "        vertical-align: top;\n",
       "    }\n",
       "\n",
       "    .dataframe thead th {\n",
       "        text-align: right;\n",
       "    }\n",
       "</style>\n",
       "<table border=\"1\" class=\"dataframe\">\n",
       "  <thead>\n",
       "    <tr style=\"text-align: right;\">\n",
       "      <th></th>\n",
       "      <th>Etudiant</th>\n",
       "      <th>Day</th>\n",
       "      <th>Heure</th>\n",
       "      <th>Cours</th>\n",
       "    </tr>\n",
       "  </thead>\n",
       "  <tbody>\n",
       "    <tr>\n",
       "      <th>-</th>\n",
       "      <td>Mario</td>\n",
       "      <td>Lundi</td>\n",
       "      <td>(8, 9)</td>\n",
       "      <td>SQL</td>\n",
       "    </tr>\n",
       "  </tbody>\n",
       "</table>\n",
       "</div>"
      ],
      "text/plain": [
       "  Etudiant    Day   Heure Cours\n",
       "-    Mario  Lundi  (8, 9)   SQL"
      ]
     },
     "metadata": {},
     "output_type": "display_data"
    },
    {
     "data": {
      "text/html": [
       "<div>\n",
       "<style scoped>\n",
       "    .dataframe tbody tr th:only-of-type {\n",
       "        vertical-align: middle;\n",
       "    }\n",
       "\n",
       "    .dataframe tbody tr th {\n",
       "        vertical-align: top;\n",
       "    }\n",
       "\n",
       "    .dataframe thead th {\n",
       "        text-align: right;\n",
       "    }\n",
       "</style>\n",
       "<table border=\"1\" class=\"dataframe\">\n",
       "  <thead>\n",
       "    <tr style=\"text-align: right;\">\n",
       "      <th></th>\n",
       "      <th>Etudiant</th>\n",
       "      <th>Day</th>\n",
       "      <th>Heure</th>\n",
       "      <th>Cours</th>\n",
       "    </tr>\n",
       "  </thead>\n",
       "  <tbody>\n",
       "    <tr>\n",
       "      <th>-</th>\n",
       "      <td>Mario</td>\n",
       "      <td>Lundi</td>\n",
       "      <td>(9, 10)</td>\n",
       "      <td>Python</td>\n",
       "    </tr>\n",
       "  </tbody>\n",
       "</table>\n",
       "</div>"
      ],
      "text/plain": [
       "  Etudiant    Day    Heure   Cours\n",
       "-    Mario  Lundi  (9, 10)  Python"
      ]
     },
     "metadata": {},
     "output_type": "display_data"
    },
    {
     "data": {
      "text/html": [
       "<div>\n",
       "<style scoped>\n",
       "    .dataframe tbody tr th:only-of-type {\n",
       "        vertical-align: middle;\n",
       "    }\n",
       "\n",
       "    .dataframe tbody tr th {\n",
       "        vertical-align: top;\n",
       "    }\n",
       "\n",
       "    .dataframe thead th {\n",
       "        text-align: right;\n",
       "    }\n",
       "</style>\n",
       "<table border=\"1\" class=\"dataframe\">\n",
       "  <thead>\n",
       "    <tr style=\"text-align: right;\">\n",
       "      <th></th>\n",
       "      <th>Etudiant</th>\n",
       "      <th>Day</th>\n",
       "      <th>Heure</th>\n",
       "      <th>Cours</th>\n",
       "    </tr>\n",
       "  </thead>\n",
       "  <tbody>\n",
       "    <tr>\n",
       "      <th>-</th>\n",
       "      <td>Luigi</td>\n",
       "      <td>Jeudi</td>\n",
       "      <td>(10, 11)</td>\n",
       "      <td>Algebre lineaire</td>\n",
       "    </tr>\n",
       "  </tbody>\n",
       "</table>\n",
       "</div>"
      ],
      "text/plain": [
       "  Etudiant    Day     Heure             Cours\n",
       "-    Luigi  Jeudi  (10, 11)  Algebre lineaire"
      ]
     },
     "metadata": {},
     "output_type": "display_data"
    },
    {
     "data": {
      "text/html": [
       "<div>\n",
       "<style scoped>\n",
       "    .dataframe tbody tr th:only-of-type {\n",
       "        vertical-align: middle;\n",
       "    }\n",
       "\n",
       "    .dataframe tbody tr th {\n",
       "        vertical-align: top;\n",
       "    }\n",
       "\n",
       "    .dataframe thead th {\n",
       "        text-align: right;\n",
       "    }\n",
       "</style>\n",
       "<table border=\"1\" class=\"dataframe\">\n",
       "  <thead>\n",
       "    <tr style=\"text-align: right;\">\n",
       "      <th></th>\n",
       "      <th>Etudiant</th>\n",
       "      <th>Day</th>\n",
       "      <th>Heure</th>\n",
       "      <th>Cours</th>\n",
       "    </tr>\n",
       "  </thead>\n",
       "  <tbody>\n",
       "    <tr>\n",
       "      <th>-</th>\n",
       "      <td>Bowser</td>\n",
       "      <td>Mardi</td>\n",
       "      <td>(12, 13)</td>\n",
       "      <td>R</td>\n",
       "    </tr>\n",
       "  </tbody>\n",
       "</table>\n",
       "</div>"
      ],
      "text/plain": [
       "  Etudiant    Day     Heure Cours\n",
       "-   Bowser  Mardi  (12, 13)     R"
      ]
     },
     "metadata": {},
     "output_type": "display_data"
    },
    {
     "name": "stdin",
     "output_type": "stream",
     "text": [
      "Si voulez vous continuer taper : 'Y' \n",
      " Si voulez vous Quiter taper : 'N' : \n",
      " n\n"
     ]
    },
    {
     "name": "stdout",
     "output_type": "stream",
     "text": [
      "Exit System avec succée\n"
     ]
    }
   ],
   "source": [
    "#programe principale :\n",
    "while True :\n",
    "  print(\"Bien venue a mon programe de tableau de matiere etudiants\")\n",
    "  chois_etulisateur = \" \"\n",
    "  while chois_etulisateur.upper() not in (\"C\", \"A\", \"S\") :\n",
    "      chois_etulisateur = input(\" Si vous voulez afficher table de matiere etudiants taper : 'C' \\n Si voulez vous ajouter un cours a un etudiant taper : 'A' \\n Si voulez vous suprimer un cours pour un etudiant taper : 'S' \\n\")\n",
    "  print(f\"chois correcte : {chois_etulisateur}\")\n",
    "\n",
    "  if chois_etulisateur.upper() == \"C\" :\n",
    "      affichage_tableau()\n",
    "  elif chois_etulisateur.upper() in (\"A\", \"S\") :\n",
    "      nom_etudiant = \" \"\n",
    "      while nom_etudiant not in liste_etudiant :\n",
    "          nom_etudiant = input(f\"Shoisire soigneussement le nom etudiant de liste d'etudiant suivant : \\n {liste_etudiant} : \\n\")\n",
    "      print(f\"Nom etudiant choisis est : {nom_etudiant}\")\n",
    "      nom_day = \" \"\n",
    "      while nom_day not in liste_Day :\n",
    "          nom_day = input(f\"Shoisir soigneusement un jour pour etudier de liste suivante : \\n {liste_Day} : \\n\")\n",
    "      print(f\"Jour d'etude choisis est : {nom_day}\")\n",
    "      mon_heure = \" \"\n",
    "      while mon_heure not in liste_horaire :\n",
    "          mon_heure = input(f\"choisire soingeusement une heure de cours de liste suivante : \\n {liste_horaire} : \\n\")\n",
    "          test_str = mon_heure\n",
    "          res = tuple(map(int, (test_str[1: len(test_str)-1]).split(', ')))\n",
    "          mon_heure = res\n",
    "      print(f\"heur de cours choisis est : {mon_heure}\")\n",
    "      nom_cours = \" \"\n",
    "      while nom_cours not in liste_matiere :\n",
    "          nom_cours = input(f\"Shoisir soigneusement une matiere de cours suivants : \\n {liste_matiere} : \\n\")\n",
    "      print(f\"Matiere de cours choisis est : {nom_cours}\")\n",
    "      if chois_etulisateur.upper() == \"A\" :\n",
    "          ajout_cours(nom_etudiant, nom_day, mon_heure, nom_cours)\n",
    "      elif chois_etulisateur.upper() == \"S\" :\n",
    "          suprimer_cours(nom_etudiant, nom_day, mon_heure, nom_cours)\n",
    "  chois_exit = \" \"\n",
    "  while chois_exit.upper() not in (\"Y\", \"N\") :\n",
    "    chois_exit = input(\"Si voulez vous continuer taper : 'Y' \\n Si voulez vous Quiter taper : 'N' : \\n\")\n",
    "  if chois_exit.upper() == 'N' :\n",
    "    print(\"Exit System avec succée\")\n",
    "    break"
   ]
  },
  {
   "cell_type": "code",
   "execution_count": 22,
   "id": "dadec269-87b6-4a20-ada8-7815c6688c5d",
   "metadata": {},
   "outputs": [
    {
     "name": "stdout",
     "output_type": "stream",
     "text": [
      "(8, 9)\n"
     ]
    }
   ],
   "source": [
    "#brillan------------------------------\n",
    "test_str = \"(8, 9)\"\n",
    "res = tuple(map(int, (test_str[1: len(test_str)-1]).split(', ')))\n",
    "print(res)"
   ]
  },
  {
   "cell_type": "code",
   "execution_count": 23,
   "id": "224742e4-96cf-4e68-b01b-117ce599a719",
   "metadata": {},
   "outputs": [
    {
     "name": "stdout",
     "output_type": "stream",
     "text": [
      "<class 'tuple'>\n"
     ]
    }
   ],
   "source": [
    "print(type(res))"
   ]
  },
  {
   "cell_type": "code",
   "execution_count": 24,
   "id": "2bf27b7b-923f-4a5f-bb05-27e0af03c18d",
   "metadata": {},
   "outputs": [
    {
     "name": "stdout",
     "output_type": "stream",
     "text": [
      "[(8, 9), (10, 11), (12, 13), (14, 15), (16, 17)]\n"
     ]
    }
   ],
   "source": [
    "print(liste_horaire[::2])"
   ]
  },
  {
   "cell_type": "code",
   "execution_count": null,
   "id": "2bb0ba6f-c70f-4e7c-b395-c02590d4d36e",
   "metadata": {},
   "outputs": [],
   "source": []
  }
 ],
 "metadata": {
  "kernelspec": {
   "display_name": "Python 3 (ipykernel)",
   "language": "python",
   "name": "python3"
  },
  "language_info": {
   "codemirror_mode": {
    "name": "ipython",
    "version": 3
   },
   "file_extension": ".py",
   "mimetype": "text/x-python",
   "name": "python",
   "nbconvert_exporter": "python",
   "pygments_lexer": "ipython3",
   "version": "3.11.7"
  }
 },
 "nbformat": 4,
 "nbformat_minor": 5
}
