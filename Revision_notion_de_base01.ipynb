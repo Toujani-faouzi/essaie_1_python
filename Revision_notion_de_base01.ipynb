{
 "cells": [
  {
   "cell_type": "code",
   "execution_count": null,
   "metadata": {
    "id": "ogcufIYdufNS"
   },
   "outputs": [],
   "source": [
    "#chaines de caractere avec python"
   ]
  },
  {
   "cell_type": "code",
   "execution_count": null,
   "metadata": {
    "id": "MsHCbbei_c3j"
   },
   "outputs": [],
   "source": [
    "chaine1= \"Bonjour Mr\"\n",
    "chaine2= \"Bonjour Mm\"\n",
    "chaine3 = chaine1 + ' ' + chaine2"
   ]
  },
  {
   "cell_type": "code",
   "execution_count": null,
   "metadata": {
    "colab": {
     "base_uri": "https://localhost:8080/"
    },
    "id": "VRjWaBXG_uOW",
    "outputId": "b6dd3062-a4ab-4531-f6e1-e900708babaf"
   },
   "outputs": [
    {
     "name": "stdout",
     "output_type": "stream",
     "text": [
      "Bonjour Mr   Bonjour Mm\n"
     ]
    }
   ],
   "source": [
    "print(chaine1, ' ', chaine2)"
   ]
  },
  {
   "cell_type": "code",
   "execution_count": null,
   "metadata": {
    "id": "Z9RYKzVkuoWK"
   },
   "outputs": [],
   "source": [
    "#concatenation 2 chaines\n",
    "result = \"Hello\" + \" John\""
   ]
  },
  {
   "cell_type": "code",
   "execution_count": null,
   "metadata": {
    "id": "o1SxFwzYu4rb"
   },
   "outputs": [],
   "source": [
    "x=7\n",
    "# Integer Value\n",
    "y=12.4\n",
    "# Float Value\n",
    "is_valid = True\n",
    "# Boolean Value\n",
    "is_valid = False\n",
    "# Boolean Value\n",
    "F_Name = \"John\"\n",
    "# String Value"
   ]
  },
  {
   "cell_type": "code",
   "execution_count": null,
   "metadata": {
    "id": "zhxsrqinvBKI"
   },
   "outputs": [],
   "source": [
    "x = 9\n",
    "y = 4\n",
    "result_add= x + y # Addition\n",
    "result_sub= x - y # Subtraction\n",
    "result_mul= x * y # Multiplication\n",
    "result_div= x / y # Division\n",
    "result_fdiv= x // y # Floor Division\n",
    "result_mod= x % y # Modulo</td>\n",
    "result_puissance = x**y #puissance"
   ]
  },
  {
   "cell_type": "code",
   "execution_count": null,
   "metadata": {
    "colab": {
     "base_uri": "https://localhost:8080/"
    },
    "id": "92GJU9BzADJa",
    "outputId": "002cda33-1de9-40b7-bb3a-657bc541be3c"
   },
   "outputs": [
    {
     "name": "stdout",
     "output_type": "stream",
     "text": [
      "Bonjour Mr  Bonjour Mm\n"
     ]
    }
   ],
   "source": [
    "#afficher variable par format String\n",
    "print(f\"{chaine1}  {chaine2}\")"
   ]
  },
  {
   "cell_type": "code",
   "execution_count": null,
   "metadata": {
    "colab": {
     "base_uri": "https://localhost:8080/"
    },
    "id": "ZE7i0ape6V7M",
    "outputId": "f05d1d07-0291-4edf-bb89-d03e0c7d6a5f"
   },
   "outputs": [
    {
     "name": "stdout",
     "output_type": "stream",
     "text": [
      "Bonjour Mr aaaaaa votre age est 12\n"
     ]
    }
   ],
   "source": [
    "print(\"Bonjour Mr {} votre age est {}\".format(\"aaaaaa\", 12))"
   ]
  },
  {
   "cell_type": "code",
   "execution_count": null,
   "metadata": {
    "colab": {
     "base_uri": "https://localhost:8080/"
    },
    "id": "gYiqtlCY6uc8",
    "outputId": "01991f46-9045-486f-aa3f-15aeb5e34168"
   },
   "outputs": [
    {
     "name": "stdout",
     "output_type": "stream",
     "text": [
      "Bonjour Mr aaaaaa votre age est 12\n"
     ]
    }
   ],
   "source": [
    "print(\"Bonjour Mr {a} votre age est {b}\".format(a=\"aaaaaa\", b=12))"
   ]
  },
  {
   "cell_type": "code",
   "execution_count": null,
   "metadata": {
    "colab": {
     "base_uri": "https://localhost:8080/"
    },
    "id": "lGAKgAVV68Ks",
    "outputId": "d8228a92-8103-48bc-a64d-b52284909c6f"
   },
   "outputs": [
    {
     "name": "stdout",
     "output_type": "stream",
     "text": [
      "Bonjour Mr llllllllll votre age est 3\n"
     ]
    }
   ],
   "source": [
    "a = \"llllllllll\"\n",
    "b = 3\n",
    "print(\"Bonjour Mr {} votre age est {}\".format(a, b))"
   ]
  },
  {
   "cell_type": "code",
   "execution_count": null,
   "metadata": {
    "colab": {
     "base_uri": "https://localhost:8080/"
    },
    "id": "WA0bDNuWQEAb",
    "outputId": "93481ced-1a7f-4b28-b1a7-2993f2c96dc8"
   },
   "outputs": [
    {
     "name": "stdout",
     "output_type": "stream",
     "text": [
      "i'm going to inject somthing here \n"
     ]
    }
   ],
   "source": [
    "print(\"i'm going to inject %s here \" %\"somthing\")"
   ]
  },
  {
   "cell_type": "code",
   "execution_count": null,
   "metadata": {
    "colab": {
     "base_uri": "https://localhost:8080/"
    },
    "id": "VTnE3mOoQbpA",
    "outputId": "dcd12c21-39bd-4e4c-e624-e04e2daebf51"
   },
   "outputs": [
    {
     "name": "stdout",
     "output_type": "stream",
     "text": [
      "i'm going to inject some text here and more text here\n"
     ]
    }
   ],
   "source": [
    "print(\"i'm going to inject %s text here and %s text here\" %(\"some\", \"more\"))"
   ]
  },
  {
   "cell_type": "code",
   "execution_count": null,
   "metadata": {
    "colab": {
     "base_uri": "https://localhost:8080/"
    },
    "id": "AvUs25oWAOvS",
    "outputId": "a74f9d78-a73e-416b-b8c8-eb3801632846"
   },
   "outputs": [
    {
     "name": "stdout",
     "output_type": "stream",
     "text": [
      "BONJOUR MR   BONJOUR MM\n"
     ]
    }
   ],
   "source": [
    "#transformer Majiscule\n",
    "print(chaine1.upper(), ' ', chaine2.upper())"
   ]
  },
  {
   "cell_type": "code",
   "execution_count": null,
   "metadata": {
    "colab": {
     "base_uri": "https://localhost:8080/"
    },
    "id": "xs_pOynTAnK3",
    "outputId": "8434979f-6ae5-4569-b890-5b965d6452f6"
   },
   "outputs": [
    {
     "name": "stdout",
     "output_type": "stream",
     "text": [
      "bonjour mr   bonjour mm\n"
     ]
    }
   ],
   "source": [
    "#transformer minscule\n",
    "print(chaine1.lower(), ' ', chaine2.lower())"
   ]
  },
  {
   "cell_type": "code",
   "execution_count": null,
   "metadata": {
    "colab": {
     "base_uri": "https://localhost:8080/"
    },
    "id": "-PeTCqGVtFz-",
    "outputId": "696bbd5c-31df-4833-aebe-17e37e919c37"
   },
   "outputs": [
    {
     "name": "stdout",
     "output_type": "stream",
     "text": [
      "8\n"
     ]
    }
   ],
   "source": [
    "#chercher la position d'un element au chene\n",
    "print(chaine3.find(\"Mr\"))"
   ]
  },
  {
   "cell_type": "code",
   "execution_count": null,
   "metadata": {
    "colab": {
     "base_uri": "https://localhost:8080/"
    },
    "id": "PjGqhpMvAuDk",
    "outputId": "a4a8bdf7-93df-444d-c9a0-762375d38763"
   },
   "outputs": [
    {
     "name": "stdout",
     "output_type": "stream",
     "text": [
      "Bonjour Mm   Bonjour Mm\n"
     ]
    }
   ],
   "source": [
    "#remplacer une partie de chaine\n",
    "print(chaine1.replace(\"Mr\",\"Mm\"), ' ', chaine2)"
   ]
  },
  {
   "cell_type": "code",
   "execution_count": null,
   "metadata": {
    "colab": {
     "base_uri": "https://localhost:8080/"
    },
    "id": "GowaoDUzA_VA",
    "outputId": "04b685db-0a71-4778-cf0d-9adbe41a5e7c"
   },
   "outputs": [
    {
     "name": "stdout",
     "output_type": "stream",
     "text": [
      "B o n j o u r   M r\n"
     ]
    }
   ],
   "source": [
    "#separer les cractere d'une chaine par un caractere specifier\n",
    "print(' '.join(chaine1))"
   ]
  },
  {
   "cell_type": "code",
   "execution_count": null,
   "metadata": {
    "colab": {
     "base_uri": "https://localhost:8080/"
    },
    "id": "0MAyS0WSBhL1",
    "outputId": "de2a1061-d515-488f-e88d-847770753d56"
   },
   "outputs": [
    {
     "name": "stdout",
     "output_type": "stream",
     "text": [
      "['Bonjour', 'Mr', 'Bonjour', 'Mm']\n"
     ]
    }
   ],
   "source": [
    "#convertir une chaine caractere en liste valeur de separation par default ' '\n",
    "liste = chaine3.split()\n",
    "print(liste)"
   ]
  },
  {
   "cell_type": "code",
   "execution_count": null,
   "metadata": {
    "colab": {
     "base_uri": "https://localhost:8080/"
    },
    "id": "lpaQjvupvxk8",
    "outputId": "6eafc415-b940-4526-8e1f-b9afdc7d2fcd"
   },
   "outputs": [
    {
     "name": "stdout",
     "output_type": "stream",
     "text": [
      "['Bonjour Mr Bonjour Mm']\n"
     ]
    }
   ],
   "source": [
    "liste = chaine3.split(',')\n",
    "print(liste)"
   ]
  },
  {
   "cell_type": "code",
   "execution_count": null,
   "metadata": {
    "colab": {
     "base_uri": "https://localhost:8080/"
    },
    "id": "XB2i8Sh8CYDM",
    "outputId": "b30296c0-4ce1-40c1-b252-b909d815582b"
   },
   "outputs": [
    {
     "name": "stdout",
     "output_type": "stream",
     "text": [
      "Bonjour-Mr-Bonjour-Mm\n",
      "Bonjour Mr Bonjour Mm\n"
     ]
    }
   ],
   "source": [
    "#convertire une liste en chaine de caractere\n",
    "res1 = \"-\".join(liste)\n",
    "res2 = \" \".join(liste)\n",
    "print(res1)\n",
    "print(res2)"
   ]
  },
  {
   "cell_type": "code",
   "execution_count": null,
   "metadata": {
    "colab": {
     "base_uri": "https://localhost:8080/"
    },
    "id": "TpQQxfPDDQOE",
    "outputId": "83223173-3aa9-48d5-bdb5-f9d717e3c325"
   },
   "outputs": [
    {
     "name": "stdout",
     "output_type": "stream",
     "text": [
      "[' ', ' ', ' ', 'B', 'B', 'M', 'M', 'j', 'j', 'm', 'n', 'n', 'o', 'o', 'o', 'o', 'r', 'r', 'r', 'u', 'u']\n"
     ]
    }
   ],
   "source": [
    "#stoker une chaine de caractere caractere par caractere en une liste trie par alphabet\n",
    "print(sorted(chaine3))"
   ]
  },
  {
   "cell_type": "code",
   "execution_count": null,
   "metadata": {
    "colab": {
     "base_uri": "https://localhost:8080/"
    },
    "id": "nFVURR9vwLwp",
    "outputId": "b63e123f-aa46-43c9-f7b4-dbad591f6f94"
   },
   "outputs": [
    {
     "name": "stdout",
     "output_type": "stream",
     "text": [
      "Hello\n",
      "Hello      \n",
      "     Hello\n"
     ]
    }
   ],
   "source": [
    "my_string=\"     Hello      \"\n",
    "print(my_string.strip()) #suprimer espaces avant et apret\n",
    "print(my_string.lstrip()) #suprimer espaces avant\n",
    "print(my_string.rstrip())#suprimer espaces apret"
   ]
  },
  {
   "cell_type": "code",
   "execution_count": null,
   "metadata": {
    "colab": {
     "base_uri": "https://localhost:8080/"
    },
    "id": "JZwZJFX8Dnng",
    "outputId": "9a992dea-150f-413a-c407-5be00601141a"
   },
   "outputs": [
    {
     "name": "stdout",
     "output_type": "stream",
     "text": [
      "21\n"
     ]
    }
   ],
   "source": [
    "#longueure chaine de caractere\n",
    "print(len(chaine3))"
   ]
  },
  {
   "cell_type": "code",
   "execution_count": null,
   "metadata": {
    "colab": {
     "base_uri": "https://localhost:8080/"
    },
    "id": "bRhQV5EKD9IM",
    "outputId": "f9ad106f-395c-4f12-ee35-48ecb5be76fa"
   },
   "outputs": [
    {
     "name": "stdout",
     "output_type": "stream",
     "text": [
      "premiere caractere chaine : B\n",
      "derniere caractere chaine : m\n",
      "derniere caractere chaine : m\n",
      "de 1eme caractere au 3eme caractere : onj\n",
      "Toute la chaine : Bonjour Mr Bonjour Mm\n",
      "de debut chaine au 5 eme caractere : Bonjo\n",
      "de 11 eme caractere a la fin de chaine : onjour Mm\n",
      "de fin chaine et 5eme caractere au sens inverse : ur M\n"
     ]
    }
   ],
   "source": [
    "#substring = string_name[start:end]\n",
    "print(\"premiere caractere chaine :\", chaine3[0])\n",
    "print(\"derniere caractere chaine :\", chaine3[-1])\n",
    "print(\"derniere caractere chaine :\", chaine3[len(chaine3)-1])\n",
    "print(\"de 1eme caractere au 3eme caractere :\", chaine3[1:4])\n",
    "print(\"Toute la chaine :\", chaine3[:])\n",
    "print(\"de debut chaine au 5 eme caractere :\", chaine3[:5])\n",
    "print(\"de 11 eme caractere a la fin de chaine :\", chaine3[12:])\n",
    "print(\"de fin chaine et 5eme caractere au sens inverse :\", chaine3[-5:-1])\n"
   ]
  },
  {
   "cell_type": "code",
   "execution_count": null,
   "metadata": {
    "colab": {
     "base_uri": "https://localhost:8080/"
    },
    "id": "3B0I5ZUrOF4J",
    "outputId": "6c5cbba4-53b9-4dcd-9d85-d7a755ebbc06"
   },
   "outputs": [
    {
     "name": "stdout",
     "output_type": "stream",
     "text": [
      "Valeur chaines caractere : ch1 = aaa ch2 = 555, ch3 = 28fm\n",
      "test sil est chaine lettre : ch1 = True ch2 = False, ch3 = False\n",
      "test sil est chaine numbers : ch1 = False ch2 = True, ch3 = False\n",
      "test sil est chaine numbers dicimal: ch1 = False ch2 = True, ch3 = False\n",
      "test sil est chaine miniscule : ch1 = True ch2 = False, ch3 = True\n",
      "test sil est chaine Majiscule : ch1 = False ch2 = False, ch3 = False\n",
      "test sil est chaine est des espaces : ch1 = False ch2 = False, ch3 = False\n"
     ]
    }
   ],
   "source": [
    "ch1, ch2, ch3 = 'aaa', '555','28fm'\n",
    "print(f\"Valeur chaines caractere : ch1 = {ch1} ch2 = {ch2}, ch3 = {ch3}\")\n",
    "print(f\"test sil est chaine lettre : ch1 = {ch1.isalpha()} ch2 = {ch2.isalpha()}, ch3 = {ch3.isalpha()}\")\n",
    "print(f\"test sil est chaine numbers : ch1 = {ch1.isdigit()} ch2 = {ch2.isdigit()}, ch3 = {ch3.isdigit()}\")\n",
    "print(f\"test sil est chaine numbers dicimal: ch1 = {ch1.isdecimal()} ch2 = {ch2.isdecimal()}, ch3 = {ch3.isdecimal()}\")\n",
    "print(f\"test sil est chaine miniscule : ch1 = {ch1.islower()} ch2 = {ch2.islower()}, ch3 = {ch3.islower()}\")\n",
    "print(f\"test sil est chaine Majiscule : ch1 = {ch1.isupper()} ch2 = {ch2.isupper()}, ch3 = {ch3.isupper()}\")\n",
    "print(f\"test sil est chaine est des espaces : ch1 = {ch1.isspace()} ch2 = {ch2.isspace()}, ch3 = {ch3.isspace()}\")"
   ]
  },
  {
   "cell_type": "code",
   "execution_count": null,
   "metadata": {
    "colab": {
     "base_uri": "https://localhost:8080/"
    },
    "id": "J4GzwqqbQ5y6",
    "outputId": "e1f72201-f6d7-46d5-dcac-f02027e7a141"
   },
   "outputs": [
    {
     "name": "stdout",
     "output_type": "stream",
     "text": [
      "0   B\n",
      "1   o\n",
      "2   n\n",
      "3   j\n",
      "4   o\n",
      "5   u\n",
      "6   r\n",
      "7    \n",
      "8   M\n",
      "9   r\n"
     ]
    }
   ],
   "source": [
    "for i in range(len(chaine1)) :\n",
    "  print(i, ' ', chaine1[i])\n"
   ]
  },
  {
   "cell_type": "code",
   "execution_count": null,
   "metadata": {
    "colab": {
     "base_uri": "https://localhost:8080/"
    },
    "id": "Djp2s_8hRcUr",
    "outputId": "5586f64c-7863-49f6-f4f7-44b72839b469"
   },
   "outputs": [
    {
     "name": "stdout",
     "output_type": "stream",
     "text": [
      "['Bonjour', 'Mr', 'Bonjour', 'Mm']\n",
      "[['B', 'o', 'n', 'j', 'o', 'u', 'r'], ['M', 'r'], ['B', 'o', 'n', 'j', 'o', 'u', 'r'], ['M', 'm']]\n",
      "['B', 'O', 'N', 'J', 'O', 'U', 'R', ' ', 'M', 'R', ' ', 'B', 'O', 'N', 'J', 'O', 'U', 'R', ' ', 'M', 'M']\n"
     ]
    }
   ],
   "source": [
    "liste = chaine3.split()\n",
    "resultat = list(map(list, liste))\n",
    "resultat2 = [x.upper() for x in chaine3]\n",
    "print(liste)\n",
    "print(resultat)\n",
    "print(resultat2)"
   ]
  },
  {
   "cell_type": "code",
   "execution_count": null,
   "metadata": {
    "colab": {
     "base_uri": "https://localhost:8080/"
    },
    "id": "3qjZvybDy-Tn",
    "outputId": "61d5ca38-e52d-4d48-b402-89b7004f0a2c"
   },
   "outputs": [
    {
     "name": "stdout",
     "output_type": "stream",
     "text": [
      "4\n"
     ]
    }
   ],
   "source": [
    "double = lambda n : n*2\n",
    "print(double(2))"
   ]
  },
  {
   "cell_type": "code",
   "execution_count": null,
   "metadata": {
    "colab": {
     "base_uri": "https://localhost:8080/"
    },
    "id": "NFE4hS6VvvCg",
    "outputId": "65f9178b-a565-4b5e-b275-859da8aa55bd"
   },
   "outputs": [
    {
     "name": "stdout",
     "output_type": "stream",
     "text": [
      "[1, 4, 9, 16, 25]\n"
     ]
    }
   ],
   "source": [
    "numbers = [1, 2, 3, 4, 5]\n",
    "squared_numbers = map(lambda x: x*x, numbers)\n",
    "print(list(squared_numbers))"
   ]
  },
  {
   "cell_type": "code",
   "execution_count": null,
   "metadata": {
    "colab": {
     "base_uri": "https://localhost:8080/"
    },
    "id": "LTp5OD6exWOD",
    "outputId": "b595b542-e34d-4b37-c639-d880821e29b7"
   },
   "outputs": [
    {
     "name": "stdout",
     "output_type": "stream",
     "text": [
      "GEEKSFORGEEKS\n"
     ]
    }
   ],
   "source": [
    "str1 = 'GeeksforGeeks'\n",
    "\n",
    "upper = lambda string: string.upper()\n",
    "print(upper(str1))"
   ]
  },
  {
   "cell_type": "markdown",
   "metadata": {
    "id": "Odp_OVjQ3SRU"
   },
   "source": [
    "Une liste est un type de données intégré qui représente une collection ordonnée et modifiable d'éléments.\n",
    "\n",
    "Les listes sont placées entre crochets [] et les éléments sont séparés par des virgules."
   ]
  },
  {
   "cell_type": "code",
   "execution_count": null,
   "metadata": {
    "id": "xVBHCCva2ija"
   },
   "outputs": [],
   "source": [
    "#La méthode `append()` est utilisée pour ajouter un élément à la fin d'une liste."
   ]
  },
  {
   "cell_type": "code",
   "execution_count": null,
   "metadata": {
    "colab": {
     "base_uri": "https://localhost:8080/"
    },
    "id": "g9gVNruC2mqm",
    "outputId": "60c9d7f5-9ac7-4e22-c077-af66121d89dd"
   },
   "outputs": [
    {
     "name": "stdout",
     "output_type": "stream",
     "text": [
      "['apple', 'banana', 'orange', 'mango']\n"
     ]
    }
   ],
   "source": [
    "fruits = [\"apple\", \"banana\", \"orange\"]\n",
    "fruits.append(\"mango\")\n",
    "print(fruits)"
   ]
  },
  {
   "cell_type": "code",
   "execution_count": null,
   "metadata": {
    "id": "4Zi6ujok4eEw"
   },
   "outputs": [],
   "source": [
    "#La méthode `insert()` est utilisée pour insérer un élément."
   ]
  },
  {
   "cell_type": "code",
   "execution_count": null,
   "metadata": {
    "colab": {
     "base_uri": "https://localhost:8080/"
    },
    "id": "1DvlY4CB4fka",
    "outputId": "d44488d2-c060-458c-c9f0-55803cff28ff"
   },
   "outputs": [
    {
     "name": "stdout",
     "output_type": "stream",
     "text": [
      "[1, 2, 6, 3, 4, 5]\n"
     ]
    }
   ],
   "source": [
    "#list_name.insert(index, element)\n",
    "my_list = [1, 2, 3, 4, 5]\n",
    "my_list.insert(2, 6)\n",
    "print(my_list)"
   ]
  },
  {
   "cell_type": "code",
   "execution_count": null,
   "metadata": {
    "id": "rqSPZGue2zG9"
   },
   "outputs": [],
   "source": [
    "#La méthode `copy()` est utilisée pour créer une copie superficielle d'une liste."
   ]
  },
  {
   "cell_type": "code",
   "execution_count": null,
   "metadata": {
    "colab": {
     "base_uri": "https://localhost:8080/"
    },
    "id": "jPbYRwzA21MP",
    "outputId": "541b3500-eb4c-4433-9969-4fe1ac859000"
   },
   "outputs": [
    {
     "name": "stdout",
     "output_type": "stream",
     "text": [
      "[1, 2, 3, 4, 5]\n"
     ]
    }
   ],
   "source": [
    "my_list = [1, 2, 3, 4, 5]\n",
    "new_list = my_list.copy()\n",
    "print(new_list)\n",
    "# Output: [1, 2, 3, 4, 5]"
   ]
  },
  {
   "cell_type": "code",
   "execution_count": null,
   "metadata": {
    "id": "l7ebcq4_2_eg"
   },
   "outputs": [],
   "source": [
    "#La méthode `count()` est utilisée pour compter le nombre d'occurrences d'un élément spécifique dans une liste en Python."
   ]
  },
  {
   "cell_type": "code",
   "execution_count": null,
   "metadata": {
    "colab": {
     "base_uri": "https://localhost:8080/"
    },
    "id": "4ASNPSut3CyQ",
    "outputId": "84e8e606-7883-42b9-bb84-7b04cdf258f1"
   },
   "outputs": [
    {
     "name": "stdout",
     "output_type": "stream",
     "text": [
      "4\n"
     ]
    }
   ],
   "source": [
    "my_list = [1, 2, 2, 3, 4, 2, 5, 2]\n",
    "count = my_list.count(2)\n",
    "print(count)\n",
    "# Output: 4"
   ]
  },
  {
   "cell_type": "markdown",
   "metadata": {
    "id": "IfifduJ33hSk"
   },
   "source": [
    "L'instruction `del` est utilisée pour supprimer un élément de la liste.\n",
    "\n",
    "L'instruction `del` supprime l'élément à l'index spécifié."
   ]
  },
  {
   "cell_type": "code",
   "execution_count": null,
   "metadata": {
    "colab": {
     "base_uri": "https://localhost:8080/"
    },
    "id": "1xwmULpQ3jOK",
    "outputId": "fcc21aa2-ad30-4bb1-c323-efede55a39ec"
   },
   "outputs": [
    {
     "name": "stdout",
     "output_type": "stream",
     "text": [
      "[10, 20, 40, 50]\n"
     ]
    }
   ],
   "source": [
    "my_list = [10, 20, 30, 40, 50]\n",
    "del my_list[2] # Removes the element at index 2 print(my_list)\n",
    "# Output: [10, 20, 40, 50]\n",
    "print(my_list)"
   ]
  },
  {
   "cell_type": "markdown",
   "metadata": {
    "id": "U4nKUQdA30D8"
   },
   "source": [
    "La méthode `extend()` est utilisée pour ajouter plusieurs éléments à une liste.\n",
    "\n",
    "Il prend un itérable (comme une autre liste, un tuple ou une chaîne) et ajoute chaque élément de l'itérable à la liste d'origine."
   ]
  },
  {
   "cell_type": "code",
   "execution_count": null,
   "metadata": {
    "colab": {
     "base_uri": "https://localhost:8080/"
    },
    "id": "aGN_-YqD35bV",
    "outputId": "2be8c6e1-3986-4660-a3d1-b6a17d22bf93"
   },
   "outputs": [
    {
     "name": "stdout",
     "output_type": "stream",
     "text": [
      "['apple', 'banana', 'orange', 'mango', 'grape']\n"
     ]
    }
   ],
   "source": [
    "fruits = [\"apple\", \"banana\", \"orange\"]\n",
    "more_fruits = [\"mango\", \"grape\"]\n",
    "fruits.extend(more_fruits)\n",
    "print(fruits)"
   ]
  },
  {
   "cell_type": "markdown",
   "metadata": {
    "id": "KM-hq3ah4Fpa"
   },
   "source": [
    "L'indexation dans une liste vous permet d'accéder à des éléments individuels par leur position.\n",
    "\n",
    "En Python, l'indexation commence à 0 pour le premier élément et monte jusqu'à « length_of_list - 1 »."
   ]
  },
  {
   "cell_type": "code",
   "execution_count": null,
   "metadata": {
    "colab": {
     "base_uri": "https://localhost:8080/"
    },
    "id": "5SvymThy4IK-",
    "outputId": "abb15869-947f-41b2-8da0-57eafc4161d0"
   },
   "outputs": [
    {
     "name": "stdout",
     "output_type": "stream",
     "text": [
      "10\n",
      "50\n"
     ]
    }
   ],
   "source": [
    "my_list = [10, 20, 30, 40, 50]\n",
    "print(my_list[0])\n",
    "# Output: 10 (accessing the first element)\n",
    "print(my_list[-1])\n",
    "# Output: 50 (accessing the last element using negative indexing)"
   ]
  },
  {
   "cell_type": "markdown",
   "metadata": {
    "id": "IL-xvXHH4vLr"
   },
   "source": [
    "Vous pouvez utiliser l'indexation pour modifier ou attribuer de nouvelles valeurs à des éléments spécifiques de la liste."
   ]
  },
  {
   "cell_type": "code",
   "execution_count": null,
   "metadata": {
    "colab": {
     "base_uri": "https://localhost:8080/"
    },
    "id": "phrlinhW4xTL",
    "outputId": "8e5a2f34-6a34-48de-9288-a990c8d0b621"
   },
   "outputs": [
    {
     "name": "stdout",
     "output_type": "stream",
     "text": [
      "[10, 25, 30, 40, 50]\n"
     ]
    }
   ],
   "source": [
    "my_list = [10, 20, 30, 40, 50]\n",
    "my_list[1] = 25 # Modifying the second element\n",
    "print(my_list)\n",
    "# Output: [10, 25, 30, 40, 50]"
   ]
  },
  {
   "cell_type": "markdown",
   "metadata": {
    "id": "e_P0iNJ45Dfn"
   },
   "source": [
    "La méthode `pop()` est une autre façon de supprimer un élément d'une liste en Python.\n",
    "\n",
    "Il supprime et renvoie l'élément à l'index spécifié.\n",
    "\n",
    "Si vous ne fournissez pas d'index à la méthode `pop()`,\n",
    "\n",
    "elle supprimera et renverra le dernier élément de la liste par défaut"
   ]
  },
  {
   "cell_type": "code",
   "execution_count": null,
   "metadata": {
    "colab": {
     "base_uri": "https://localhost:8080/"
    },
    "id": "QjiTOu065Hyg",
    "outputId": "902329b6-99b1-4837-a10c-8894f2d1f08a"
   },
   "outputs": [
    {
     "name": "stdout",
     "output_type": "stream",
     "text": [
      "30\n",
      "[10, 20, 40, 50]\n"
     ]
    }
   ],
   "source": [
    "my_list = [10, 20, 30, 40, 50]\n",
    "removed_element = my_list.pop(2) # Removes and returns the element at index 2\n",
    "print(removed_element)\n",
    "# Output: 30\n",
    "print(my_list)\n",
    "# Output: [10, 20, 40, 50]"
   ]
  },
  {
   "cell_type": "code",
   "execution_count": null,
   "metadata": {
    "colab": {
     "base_uri": "https://localhost:8080/"
    },
    "id": "HhUsCo5D5Rjc",
    "outputId": "bd8d0468-ecb3-4120-d069-23d1c993443b"
   },
   "outputs": [
    {
     "name": "stdout",
     "output_type": "stream",
     "text": [
      "50\n",
      "[10, 20, 30, 40]\n"
     ]
    }
   ],
   "source": [
    "my_list = [10, 20, 30, 40, 50]\n",
    "removed_element = my_list.pop() # Removes and returns the last element\n",
    "print(removed_element)\n",
    "# Output: 50\n",
    "print(my_list)\n",
    "# Output: [10, 20, 30, 40]"
   ]
  },
  {
   "cell_type": "markdown",
   "metadata": {
    "id": "a4fzQ7Ok5fdf"
   },
   "source": [
    "Pour supprimer un élément d'une liste.\n",
    "La méthode `remove()` supprime la première occurrence de la valeur spécifiée."
   ]
  },
  {
   "cell_type": "code",
   "execution_count": null,
   "metadata": {
    "colab": {
     "base_uri": "https://localhost:8080/"
    },
    "id": "1eqXYGHe5hqd",
    "outputId": "6d7772b8-da6a-4992-85ec-d840e752a411"
   },
   "outputs": [
    {
     "name": "stdout",
     "output_type": "stream",
     "text": [
      "[10, 20, 40, 50]\n"
     ]
    }
   ],
   "source": [
    "my_list = [10, 20, 30, 40, 50]\n",
    "my_list.remove(30) # Removes the element 30\n",
    "print(my_list)\n",
    "# Output: [10, 20, 40, 50]"
   ]
  },
  {
   "cell_type": "markdown",
   "metadata": {
    "id": "zH1g_iJI5t59"
   },
   "source": [
    "La méthode `reverse()` est utilisée pour inverser l'ordre des éléments dans une liste"
   ]
  },
  {
   "cell_type": "code",
   "execution_count": null,
   "metadata": {
    "colab": {
     "base_uri": "https://localhost:8080/"
    },
    "id": "js7tUr395vT_",
    "outputId": "b44b3a4d-b20f-4ad9-b2ed-4e8ee6c168b1"
   },
   "outputs": [
    {
     "name": "stdout",
     "output_type": "stream",
     "text": [
      "[5, 4, 3, 2, 1]\n"
     ]
    }
   ],
   "source": [
    "my_list = [1, 2, 3, 4, 5]\n",
    "my_list.reverse()\n",
    "print(my_list)\n",
    "# Output: [5, 4, 3, 2, 1]"
   ]
  },
  {
   "cell_type": "markdown",
   "metadata": {
    "id": "1vxio42p6FWx"
   },
   "source": [
    "Vous pouvez utiliser le découpage pour accéder à une gamme d’éléments à partir d’une liste."
   ]
  },
  {
   "cell_type": "code",
   "execution_count": null,
   "metadata": {
    "colab": {
     "base_uri": "https://localhost:8080/"
    },
    "id": "6niOVHtL6KGu",
    "outputId": "38a43395-893a-45e3-94a4-8ff4593d93d5"
   },
   "outputs": [
    {
     "name": "stdout",
     "output_type": "stream",
     "text": [
      "[2, 3, 4]\n",
      "[1, 2, 3]\n",
      "[3, 4, 5]\n",
      "[1, 3, 5]\n"
     ]
    }
   ],
   "source": [
    "#list_name[start:end:step]\n",
    "my_list = [1, 2, 3, 4, 5]\n",
    "print(my_list[1:4])\n",
    "# Output: [2, 3, 4] (elements from index 1 to 3)\n",
    "print(my_list[:3])\n",
    "# Output: [1, 2, 3] (elements from the beginning up to index 2)\n",
    "print(my_list[2:])\n",
    "# Output: [3, 4, 5] (elements from index 2 to the end)\n",
    "print(my_list[::2])\n",
    "# Output: [1, 3, 5] (every second element)"
   ]
  },
  {
   "cell_type": "markdown",
   "metadata": {
    "id": "4nd8SXQt6bfn"
   },
   "source": [
    "La méthode `sort()` est utilisée pour trier les éléments d'une liste par ordre croissant.\n",
    "\n",
    "Si vous souhaitez trier la liste par ordre décroissant, vous pouvez passer l'argument `reverse=True` à la méthode `sort()`."
   ]
  },
  {
   "cell_type": "code",
   "execution_count": null,
   "metadata": {
    "colab": {
     "base_uri": "https://localhost:8080/"
    },
    "id": "o5-_zc9P6d96",
    "outputId": "cfc1fd77-5d8a-46d3-b074-fca8c46c438a"
   },
   "outputs": [
    {
     "name": "stdout",
     "output_type": "stream",
     "text": [
      "[1, 2, 5, 8, 9]\n"
     ]
    }
   ],
   "source": [
    "my_list = [5, 2, 8, 1, 9]\n",
    "my_list.sort()\n",
    "print(my_list)\n",
    "# Output: [1, 2, 5, 8, 9]"
   ]
  },
  {
   "cell_type": "code",
   "execution_count": null,
   "metadata": {
    "colab": {
     "base_uri": "https://localhost:8080/"
    },
    "id": "Azm5Vh5y6mRD",
    "outputId": "d8f15c9d-f8c0-48c6-9ba0-40f8a80d6b51"
   },
   "outputs": [
    {
     "name": "stdout",
     "output_type": "stream",
     "text": [
      "[9, 8, 5, 2, 1]\n"
     ]
    }
   ],
   "source": [
    "my_list = [5, 2, 8, 1, 9]\n",
    "my_list.sort(reverse=True)\n",
    "print(my_list)\n",
    "# Output: [9, 8, 5, 2, 1]"
   ]
  },
  {
   "cell_type": "markdown",
   "metadata": {
    "id": "Zirtn14i7F0B"
   },
   "source": [
    "Un ensemble est une collection désordonnée d’éléments uniques.\n",
    "\n",
    "Les ensembles sont entourés d'accolades `{}`.\n",
    "\n",
    "Ils sont utiles pour stocker des valeurs distinctes et effectuer des opérations d’ensemble."
   ]
  },
  {
   "cell_type": "code",
   "execution_count": null,
   "metadata": {
    "id": "rFhYGUsL7KE5"
   },
   "outputs": [],
   "source": [
    "empty_set = set() #Creating an Empty Set\n",
    "fruits = {\"apple\", \"banana\", \"orange\"}\n",
    "colors = {\"red\", \"green\", \"black\", \"orange\"}"
   ]
  },
  {
   "cell_type": "markdown",
   "metadata": {
    "id": "29ronaeB7Vu2"
   },
   "source": [
    "Des éléments peuvent être ajoutés à un ensemble en utilisant la méthode `add()`.\n",
    "\n",
    "Les doublons sont automatiquement supprimés, car les ensembles ne stockent que des valeurs uniques."
   ]
  },
  {
   "cell_type": "code",
   "execution_count": null,
   "metadata": {
    "colab": {
     "base_uri": "https://localhost:8080/"
    },
    "id": "VGVpvWDQ7YMB",
    "outputId": "230c3c11-22fc-47ac-be88-1adf503640fa"
   },
   "outputs": [
    {
     "name": "stdout",
     "output_type": "stream",
     "text": [
      "{'apple', 'banana', 'orange'}\n",
      "{'apple', 'mango', 'banana', 'orange'}\n"
     ]
    }
   ],
   "source": [
    "print(fruits)\n",
    "fruits.add(\"mango\")\n",
    "print(fruits)"
   ]
  },
  {
   "cell_type": "markdown",
   "metadata": {
    "id": "vkldLS8L7mmN"
   },
   "source": [
    "La méthode `clear()` supprime tous les éléments de l'ensemble,\n",
    "\n",
    "ce qui donne un ensemble vide.\n",
    "\n",
    "Il met à jour l'ensemble sur place."
   ]
  },
  {
   "cell_type": "code",
   "execution_count": null,
   "metadata": {
    "colab": {
     "base_uri": "https://localhost:8080/"
    },
    "id": "VO9f4qE07rkp",
    "outputId": "b4d664a5-d065-4a2b-900d-2f4672d13f0a"
   },
   "outputs": [
    {
     "name": "stdout",
     "output_type": "stream",
     "text": [
      "set()\n"
     ]
    }
   ],
   "source": [
    "fruits.clear()\n",
    "print(fruits)"
   ]
  },
  {
   "cell_type": "markdown",
   "metadata": {
    "id": "AYQPYMl38BGj"
   },
   "source": [
    "La méthode `copy()` crée une copie superficielle de l'ensemble.\n",
    "\n",
    "Toute modification apportée à la copie n'affectera pas l'ensemble d'origine."
   ]
  },
  {
   "cell_type": "code",
   "execution_count": null,
   "metadata": {
    "colab": {
     "base_uri": "https://localhost:8080/"
    },
    "id": "ONRdbLjk8C2u",
    "outputId": "229d3b13-ac2f-42d8-c0a2-ab1548ad3473"
   },
   "outputs": [
    {
     "name": "stdout",
     "output_type": "stream",
     "text": [
      "{'apple', 'banana', 'orange'}\n"
     ]
    }
   ],
   "source": [
    "new_fruits = fruits.copy()\n",
    "print(new_fruits)"
   ]
  },
  {
   "cell_type": "markdown",
   "metadata": {
    "id": "91J41Nzc8QAV"
   },
   "source": [
    "Utilisez la méthode `discard()` pour supprimer un élément spécifique de l'ensemble.\n",
    "\n",
    "Ignore si l'élément n'est pas trouvé."
   ]
  },
  {
   "cell_type": "code",
   "execution_count": null,
   "metadata": {
    "colab": {
     "base_uri": "https://localhost:8080/"
    },
    "id": "pQRhujEd8T8F",
    "outputId": "57293a95-e08f-49e9-b3d6-f67f9affb6be"
   },
   "outputs": [
    {
     "name": "stdout",
     "output_type": "stream",
     "text": [
      "{'apple', 'banana', 'orange'}\n",
      "{'banana', 'orange'}\n"
     ]
    }
   ],
   "source": [
    "print(fruits)\n",
    "fruits.discard(\"apple\")\n",
    "print(fruits)"
   ]
  },
  {
   "cell_type": "markdown",
   "metadata": {
    "id": "jyeSr_nT8thk"
   },
   "source": [
    "La méthode `issubset()` vérifie si l'ensemble actuel est un sous-ensemble d'un autre ensemble.\n",
    "\n",
    "Il renvoie True si tous les éléments de l'ensemble actuel sont présents dans l'autre ensemble, sinon False."
   ]
  },
  {
   "cell_type": "code",
   "execution_count": null,
   "metadata": {
    "colab": {
     "base_uri": "https://localhost:8080/"
    },
    "id": "92uqrqGz8w3H",
    "outputId": "dd803869-0c68-428c-bfd1-7d544f0d98c0"
   },
   "outputs": [
    {
     "name": "stdout",
     "output_type": "stream",
     "text": [
      "True\n"
     ]
    }
   ],
   "source": [
    "is_subset = fruits.issubset(new_fruits)\n",
    "print(is_subset)"
   ]
  },
  {
   "cell_type": "markdown",
   "metadata": {
    "id": "pHoVYRI69iXq"
   },
   "source": [
    "La méthode `issuperset()` vérifie si l'ensemble actuel est un sur-ensemble d'un autre ensemble.\n",
    "\n",
    "Il renvoie True si tous les éléments de l'autre ensemble sont présents dans l'ensemble actuel, sinon False."
   ]
  },
  {
   "cell_type": "code",
   "execution_count": null,
   "metadata": {
    "colab": {
     "base_uri": "https://localhost:8080/"
    },
    "id": "x87afGhA9ndp",
    "outputId": "1b7cc43f-1021-4c3f-90f2-a641d937f02c"
   },
   "outputs": [
    {
     "name": "stdout",
     "output_type": "stream",
     "text": [
      "True\n"
     ]
    }
   ],
   "source": [
    "is_superset = new_fruits.issuperset(fruits)\n",
    "print(is_subset)"
   ]
  },
  {
   "cell_type": "markdown",
   "metadata": {
    "id": "eWjl00rn93c5"
   },
   "source": [
    "La méthode `pop()` supprime et renvoie un élément arbitraire de l'ensemble.\n",
    "\n",
    "Il génère une `KeyError` si l'ensemble est vide.\n",
    "\n",
    "Utilisez cette méthode pour supprimer des éléments lorsque l’ordre n’a pas d’importance."
   ]
  },
  {
   "cell_type": "code",
   "execution_count": null,
   "metadata": {
    "colab": {
     "base_uri": "https://localhost:8080/"
    },
    "id": "uKpRG4DB97CK",
    "outputId": "8a3a9d22-3d00-4e3d-a115-f3580d0fb839"
   },
   "outputs": [
    {
     "name": "stdout",
     "output_type": "stream",
     "text": [
      "{'banana', 'orange'}\n",
      "banana\n",
      "{'orange'}\n"
     ]
    }
   ],
   "source": [
    "print(fruits)\n",
    "removed_fruit = fruits.pop()\n",
    "print(removed_fruit)\n",
    "print(fruits)"
   ]
  },
  {
   "cell_type": "markdown",
   "metadata": {
    "id": "suhse19s-OlD"
   },
   "source": [
    "Utilisez la méthode `remove()` pour supprimer un élément spécifique de l'ensemble.\n",
    "\n",
    "Lève une `KeyError` si l'élément n'est pas trouvé."
   ]
  },
  {
   "cell_type": "code",
   "execution_count": null,
   "metadata": {
    "colab": {
     "base_uri": "https://localhost:8080/"
    },
    "id": "NBhDN_og-S9V",
    "outputId": "de13877e-72de-4ab8-cbfa-25ec15f4f5c3"
   },
   "outputs": [
    {
     "name": "stdout",
     "output_type": "stream",
     "text": [
      "{'apple', 'orange'}\n"
     ]
    }
   ],
   "source": [
    "fruits.remove(\"banana\")\n",
    "print(fruits)"
   ]
  },
  {
   "cell_type": "markdown",
   "metadata": {
    "id": "IBDaj_jZ-5Vf"
   },
   "source": [
    "Effectuer diverses opérations sur les ensembles :\n",
    "\n",
    "`union`, `intersection`, `différence`, `différence symétrique`."
   ]
  },
  {
   "cell_type": "code",
   "execution_count": null,
   "metadata": {
    "colab": {
     "base_uri": "https://localhost:8080/"
    },
    "id": "H-795Y2g--Lo",
    "outputId": "635f05b8-cd1e-48af-f98d-115f9fafbf8b"
   },
   "outputs": [
    {
     "name": "stdout",
     "output_type": "stream",
     "text": [
      "{'apple', 'green', 'red', 'banana', 'black', 'orange'}\n",
      "{'orange'}\n",
      "{'apple', 'banana'}\n",
      "{'banana', 'apple', 'green', 'red', 'black'}\n"
     ]
    }
   ],
   "source": [
    "combined = fruits.union(colors)\n",
    "common = fruits.intersection(colors)\n",
    "unique_to_fruits = fruits.difference(colors)\n",
    "sym_diff = fruits.symmetric_difference(colors)\n",
    "print(combined)\n",
    "print(common)\n",
    "print(unique_to_fruits)\n",
    "print(sym_diff)"
   ]
  },
  {
   "cell_type": "markdown",
   "metadata": {
    "id": "QxJPEr6p_cfj"
   },
   "source": [
    "La méthode `update()` ajoute des éléments d'un autre itérable dans l'ensemble.\n",
    "\n",
    "Il préserve le caractère unique des éléments."
   ]
  },
  {
   "cell_type": "code",
   "execution_count": null,
   "metadata": {
    "colab": {
     "base_uri": "https://localhost:8080/"
    },
    "id": "dUOlAtQO_e1K",
    "outputId": "8480c7ab-1fe8-48e4-bb4a-656f3083057e"
   },
   "outputs": [
    {
     "name": "stdout",
     "output_type": "stream",
     "text": [
      "{'banana', 'grape', 'kiwi', 'apple', 'orange'}\n"
     ]
    }
   ],
   "source": [
    "fruits.update([\"kiwi\", \"grape\"])\n",
    "print(fruits)"
   ]
  },
  {
   "cell_type": "code",
   "execution_count": null,
   "metadata": {
    "colab": {
     "base_uri": "https://localhost:8080/"
    },
    "id": "9PGVSgIBLn-O",
    "outputId": "d44e40eb-8bf5-4fc9-e6d8-6fc6b505f690"
   },
   "outputs": [
    {
     "data": {
      "text/plain": [
       "{'a'}"
      ]
     },
     "execution_count": 61,
     "metadata": {},
     "output_type": "execute_result"
    }
   ],
   "source": [
    "{'a','b'} & {'a'}"
   ]
  },
  {
   "cell_type": "code",
   "execution_count": null,
   "metadata": {
    "colab": {
     "base_uri": "https://localhost:8080/"
    },
    "id": "ABGSAVN8Lpzd",
    "outputId": "bcd9021c-fa31-49bf-8d3b-232052d358f3"
   },
   "outputs": [
    {
     "data": {
      "text/plain": [
       "{'a', 'b'}"
      ]
     },
     "execution_count": 62,
     "metadata": {},
     "output_type": "execute_result"
    }
   ],
   "source": [
    "{'a','b'} | {'a'}"
   ]
  },
  {
   "cell_type": "markdown",
   "metadata": {
    "id": "ojUwoTgPAOtA"
   },
   "source": [
    "Un dictionnaire est un type de données intégré qui représente une collection de paires clé-valeur.\n",
    "\n",
    "Les dictionnaires sont placés entre accolades `{}`."
   ]
  },
  {
   "cell_type": "code",
   "execution_count": null,
   "metadata": {
    "id": "tRyQn6z-AUlE"
   },
   "outputs": [],
   "source": [
    "dict_name = {} #Creates an empty dictionary\n",
    "person = { \"name\": \"John\", \"age\": 30, \"city\": \"New York\", \"Country\": \"new gercy\"}\n",
    "garde = {\"garde 1\" : 10, \"garde 2\" : 20, \"garde 3\" : 30}"
   ]
  },
  {
   "cell_type": "code",
   "execution_count": null,
   "metadata": {
    "colab": {
     "base_uri": "https://localhost:8080/"
    },
    "id": "N1kiP3V-CRRp",
    "outputId": "ec3ca8ed-4664-4160-d9b9-6eb0459fec18"
   },
   "outputs": [
    {
     "name": "stdout",
     "output_type": "stream",
     "text": [
      "John\n"
     ]
    }
   ],
   "source": [
    "print(person.get(\"name\"))"
   ]
  },
  {
   "cell_type": "markdown",
   "metadata": {
    "id": "Vf4sxrDKAbV7"
   },
   "source": [
    "Vous pouvez accéder aux valeurs d'un dictionnaire en utilisant leurs « clés » correspondantes."
   ]
  },
  {
   "cell_type": "code",
   "execution_count": null,
   "metadata": {
    "id": "ZitAHTaiAcso"
   },
   "outputs": [],
   "source": [
    "name = person[\"name\"]\n",
    "age = person[\"age\"]"
   ]
  },
  {
   "cell_type": "markdown",
   "metadata": {
    "id": "JKYSc6aqAqS3"
   },
   "source": [
    "Insère une nouvelle paire clé-valeur dans le dictionnaire.\n",
    "\n",
    "Si la clé existe déjà, la valeur sera mise à jour ; sinon, une nouvelle entrée est créée."
   ]
  },
  {
   "cell_type": "code",
   "execution_count": null,
   "metadata": {
    "id": "OWHhKIHhAswZ"
   },
   "outputs": [],
   "source": [
    "person[\"Country\"] = \"USA\" # A new entry will be created.\n",
    "person[\"city\"] = \"Chicago\" # Update the existing value for the same key"
   ]
  },
  {
   "cell_type": "markdown",
   "metadata": {
    "id": "-Pc6ST2TA4JD"
   },
   "source": [
    "La méthode `clear()` vide le dictionnaire,\n",
    "\n",
    "en supprimant toutes les paires clé-valeur qu'il contient.\n",
    "\n",
    "Après cette opération, le dictionnaire est toujours accessible et peut être utilisé ultérieurement."
   ]
  },
  {
   "cell_type": "code",
   "execution_count": null,
   "metadata": {
    "colab": {
     "base_uri": "https://localhost:8080/"
    },
    "id": "mSwLkvGuA6o9",
    "outputId": "0bb3ee9f-dc0b-4e85-92c1-226f35ebccec"
   },
   "outputs": [
    {
     "name": "stdout",
     "output_type": "stream",
     "text": [
      "{'garde 1': 10, 'garde 2': 20, 'garde 3': 30}\n",
      "{}\n"
     ]
    }
   ],
   "source": [
    "print(garde)\n",
    "garde.clear()\n",
    "print(garde)"
   ]
  },
  {
   "cell_type": "markdown",
   "metadata": {
    "id": "POMLaHZxEu0Y"
   },
   "source": [
    "Crée une copie superficielle du dictionnaire.\n",
    "\n",
    "Le nouveau dictionnaire contient les mêmes paires clé-valeur que l'original,\n",
    "\n",
    "mais elles restent des objets distincts en mémoire."
   ]
  },
  {
   "cell_type": "code",
   "execution_count": null,
   "metadata": {
    "colab": {
     "base_uri": "https://localhost:8080/"
    },
    "id": "EZSVEpVbEx6Y",
    "outputId": "7d546a64-57df-40f8-834e-9f1e1b59b212"
   },
   "outputs": [
    {
     "name": "stdout",
     "output_type": "stream",
     "text": [
      "{'name': 'John', 'age': 30, 'city': 'New York'}\n"
     ]
    }
   ],
   "source": [
    "new_person = person.copy()\n",
    "new_person = dict(person) # another way to create a copy of dictionary\n",
    "print(new_person)"
   ]
  },
  {
   "cell_type": "markdown",
   "metadata": {
    "id": "IXp7j2tqE_x7"
   },
   "source": [
    "Supprime la paire clé-valeur spécifiée du dictionnaire.\n",
    "\n",
    "Lève une `KeyError` si la clé n'existe pas."
   ]
  },
  {
   "cell_type": "code",
   "execution_count": null,
   "metadata": {
    "colab": {
     "base_uri": "https://localhost:8080/"
    },
    "id": "QS05II85FDEr",
    "outputId": "b2f8bf4d-6cc0-4ff8-dc6d-e549ac7970cb"
   },
   "outputs": [
    {
     "name": "stdout",
     "output_type": "stream",
     "text": [
      "{'name': 'John', 'age': 30, 'city': 'New York', 'Country': 'new gercy'}\n",
      "{'name': 'John', 'age': 30, 'city': 'New York'}\n"
     ]
    }
   ],
   "source": [
    "#del dict_name[key]\n",
    "print(person)\n",
    "del person[\"Country\"]\n",
    "print(person)"
   ]
  },
  {
   "cell_type": "code",
   "execution_count": null,
   "metadata": {
    "colab": {
     "base_uri": "https://localhost:8080/"
    },
    "id": "x_j8tRmLFhp3",
    "outputId": "42224580-a1f3-4cd6-edcd-a87d151b6a5f"
   },
   "outputs": [
    {
     "name": "stdout",
     "output_type": "stream",
     "text": [
      "('name', 'John')\n",
      "('age', 30)\n",
      "('city', 'New York')\n",
      "('Country', 'new gercy')\n",
      "name\n",
      "age\n",
      "city\n",
      "Country\n",
      "John\n",
      "30\n",
      "New York\n",
      "new gercy\n"
     ]
    }
   ],
   "source": [
    "for i in person.items():\n",
    "  print(i)\n",
    "for i in person.keys():\n",
    "  print(i)\n",
    "for i in person.values():\n",
    "  print(i)"
   ]
  },
  {
   "cell_type": "markdown",
   "metadata": {
    "id": "AJgp1C9fHIKA"
   },
   "source": [
    "Récupère toutes les clés du dictionnaire et les convertit en liste.\n",
    "\n",
    "Utile pour itérer ou traiter des clés à l’aide de méthodes de liste."
   ]
  },
  {
   "cell_type": "code",
   "execution_count": null,
   "metadata": {
    "colab": {
     "base_uri": "https://localhost:8080/"
    },
    "id": "zA4IXnUUHJ7s",
    "outputId": "96738d2d-63c9-4e80-c443-7ad17697e7f6"
   },
   "outputs": [
    {
     "name": "stdout",
     "output_type": "stream",
     "text": [
      "['name', 'age', 'city', 'Country']\n"
     ]
    }
   ],
   "source": [
    "person_keys = list(person.keys())\n",
    "print(person_keys)"
   ]
  },
  {
   "cell_type": "code",
   "execution_count": null,
   "metadata": {
    "colab": {
     "base_uri": "https://localhost:8080/"
    },
    "id": "VH6BG3N4HP6I",
    "outputId": "8757ed5b-a7d2-47a9-f618-06e951dc0df4"
   },
   "outputs": [
    {
     "name": "stdout",
     "output_type": "stream",
     "text": [
      "['John', 30, 'New York', 'new gercy']\n"
     ]
    }
   ],
   "source": [
    "person_values = list(person.values())\n",
    "print(person_values)"
   ]
  },
  {
   "cell_type": "markdown",
   "metadata": {
    "id": "1X1L6usIHfzn"
   },
   "source": [
    "La méthode `update()` fusionne le dictionnaire fourni dans le dictionnaire existant,\n",
    "\n",
    "en ajoutant ou en mettant à jour les paires clé-valeur."
   ]
  },
  {
   "cell_type": "code",
   "execution_count": null,
   "metadata": {
    "colab": {
     "base_uri": "https://localhost:8080/"
    },
    "id": "Z1e-1-Q7Hh50",
    "outputId": "2b8cbddd-e378-44fb-df38-8a808a5219ca"
   },
   "outputs": [
    {
     "name": "stdout",
     "output_type": "stream",
     "text": [
      "{'name': 'John', 'age': 30, 'city': 'New York', 'Country': 'new gercy', 'Profession': 'Doctor'}\n"
     ]
    }
   ],
   "source": [
    "person.update({\"Profession\": \"Doctor\"})\n",
    "print(person)"
   ]
  }
 ],
 "metadata": {
  "colab": {
   "provenance": []
  },
  "kernelspec": {
   "display_name": "Python 3 (ipykernel)",
   "language": "python",
   "name": "python3"
  },
  "language_info": {
   "codemirror_mode": {
    "name": "ipython",
    "version": 3
   },
   "file_extension": ".py",
   "mimetype": "text/x-python",
   "name": "python",
   "nbconvert_exporter": "python",
   "pygments_lexer": "ipython3",
   "version": "3.11.7"
  }
 },
 "nbformat": 4,
 "nbformat_minor": 4
}
